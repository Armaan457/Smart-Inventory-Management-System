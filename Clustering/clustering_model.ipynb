{
  "cells": [
    {
      "cell_type": "code",
      "execution_count": null,
      "metadata": {
        "id": "mTq1dtIglw6S"
      },
      "outputs": [],
      "source": [
        "!pip install hdbscan scikit-learn pandas umap-learn"
      ]
    },
    {
      "cell_type": "code",
      "execution_count": null,
      "metadata": {
        "id": "8vO_q17cu6Rb"
      },
      "outputs": [],
      "source": [
        "import numpy as np\n",
        "import pandas as pd\n",
        "from sklearn.ensemble import IsolationForest\n",
        "from sklearn.preprocessing import StandardScaler\n",
        "\n",
        "df = pd.read_csv('/content/Electronics_Data.csv')\n",
        "df['category_encoded'] = df['category'].astype('category').cat.codes\n",
        "X = df[['price', 'sales', 'popularity_score', 'category_encoded']]\n",
        "scaler = StandardScaler()\n",
        "X_scaled = scaler.fit_transform(X)\n",
        "iso = IsolationForest(contamination=0.03, random_state=42)\n",
        "outliers = iso.fit_predict(X_scaled)\n",
        "X_filtered = X_scaled[outliers == 1]"
      ]
    },
    {
      "cell_type": "code",
      "execution_count": null,
      "metadata": {
        "id": "AWuj-00nZYwx"
      },
      "outputs": [],
      "source": [
        "import umap\n",
        "from itertools import product\n",
        "from sklearn.metrics import silhouette_score\n",
        "import hdbscan\n",
        "import umap\n",
        "\n",
        "umap_model = umap.UMAP(n_neighbors=2, min_dist=0.03, n_components=1, random_state=42)\n",
        "X_umap = umap_model.fit_transform(X_filtered)\n",
        "\n",
        "param_grid = {\n",
        "    'min_cluster_size': [3, 5, 10, 15, 20, 25, 30],\n",
        "    'min_samples': [1, 2, 3, 4, 5, 6]\n",
        "}\n",
        "\n",
        "best_score = -1\n",
        "best_model = None\n",
        "\n",
        "for min_cluster_size, min_samples in product(param_grid['min_cluster_size'], param_grid['min_samples']):\n",
        "    clusterer = hdbscan.HDBSCAN(\n",
        "        min_cluster_size=min_cluster_size,\n",
        "        min_samples=min_samples,\n",
        "        cluster_selection_epsilon=0.1\n",
        "    )\n",
        "    labels = clusterer.fit_predict(X_umap)\n",
        "\n",
        "    # Evaluate only if there are at least 2 clusters (excluding noise)\n",
        "    if len(set(labels)) > 1:\n",
        "        non_noise_mask = labels != -1\n",
        "        if np.any(non_noise_mask):  \n",
        "            score = silhouette_score(X_umap[non_noise_mask], labels[non_noise_mask])\n",
        "            if score > best_score:\n",
        "                best_score = score\n",
        "                best_model = clusterer\n",
        "                best_labels = labels\n",
        "\n",
        "print(f\"✅ Best Silhouette Score: {best_score:.4f}\")"
      ]
    },
    {
      "cell_type": "markdown",
      "metadata": {
        "id": "_9nVFzRRklTN"
      },
      "source": [
        "✅ Best Silhouette Score: 0.8368"
      ]
    },
    {
      "cell_type": "code",
      "execution_count": null,
      "metadata": {
        "id": "POQCrcp-yDdi"
      },
      "outputs": [],
      "source": [
        "final_labels = best_model.fit_predict(X_umap)\n",
        "\n",
        "clustered_data = df[outliers == 1].copy()\n",
        "clustered_data['cluster'] = final_labels\n",
        "\n",
        "clustered_data.to_csv('dataset_dbms.csv', index=False)"
      ]
    },
    {
      "cell_type": "code",
      "execution_count": null,
      "metadata": {
        "colab": {
          "base_uri": "https://localhost:8080/"
        },
        "id": "qgLjOOs5yNPU",
        "outputId": "eb15b49c-0b8d-4572-db10-128da18fbabb"
      },
      "outputs": [
        {
          "name": "stdout",
          "output_type": "stream",
          "text": [
            "\n",
            "Number of entries per cluster:\n",
            " cluster\n",
            "-1      7\n",
            " 0      3\n",
            " 1      4\n",
            " 2      4\n",
            " 3      9\n",
            "       ..\n",
            " 101    3\n",
            " 102    3\n",
            " 103    3\n",
            " 104    3\n",
            " 105    4\n",
            "Name: count, Length: 107, dtype: int64\n",
            "\n",
            "Unique categories per cluster:\n",
            " cluster\n",
            "-1      [Smartwatch, Laptop, Tablet]\n",
            " 0                      [Smartwatch]\n",
            " 1              [Camera, Headphones]\n",
            " 2              [Camera, Headphones]\n",
            " 3      [Laptop, Tablet, Headphones]\n",
            "                    ...             \n",
            " 101            [Tablet, Smartwatch]\n",
            " 102            [Laptop, Smartphone]\n",
            " 103                        [Laptop]\n",
            " 104            [Headphones, Camera]\n",
            " 105                        [Camera]\n",
            "Name: category, Length: 107, dtype: object\n"
          ]
        }
      ],
      "source": [
        "cluster_counts = clustered_data['cluster'].value_counts().sort_index()\n",
        "print(\"\\nNumber of entries per cluster:\\n\", cluster_counts)\n",
        "\n",
        "unique_categories_per_cluster = clustered_data.groupby('cluster')['category'].unique()\n",
        "print(\"\\nUnique categories per cluster:\\n\", unique_categories_per_cluster)"
      ]
    },
    {
      "cell_type": "code",
      "execution_count": 1,
      "metadata": {
        "colab": {
          "base_uri": "https://localhost:8080/",
          "height": 631
        },
        "id": "Klo3XnEJnIi6",
        "outputId": "062f6f3e-aef1-4927-d9de-8f7de75c19b3"
      },
      "outputs": [
        {
          "name": "stderr",
          "output_type": "stream",
          "text": [
            "g:\\DBMS_Project\\env\\Lib\\site-packages\\tqdm\\auto.py:21: TqdmWarning: IProgress not found. Please update jupyter and ipywidgets. See https://ipywidgets.readthedocs.io/en/stable/user_install.html\n",
            "  from .autonotebook import tqdm as notebook_tqdm\n",
            "g:\\DBMS_Project\\env\\Lib\\site-packages\\sklearn\\utils\\deprecation.py:151: FutureWarning: 'force_all_finite' was renamed to 'ensure_all_finite' in 1.6 and will be removed in 1.8.\n",
            "  warnings.warn(\n",
            "g:\\DBMS_Project\\env\\Lib\\site-packages\\umap\\umap_.py:1952: UserWarning: n_jobs value 1 overridden to 1 by setting random_state. Use no seed for parallelism.\n",
            "  warn(\n"
          ]
        },
        {
          "data": {
            "application/vnd.plotly.v1+json": {
              "config": {
                "plotlyServerURL": "https://plot.ly"
              },
              "data": [
                {
                  "customdata": [
                    [
                      "Fitbit Versa 4",
                      329.21,
                      889,
                      0.91,
                      298,
                      "Smartwatch"
                    ],
                    [
                      "Canon EOS R6",
                      975.48,
                      752,
                      0.21,
                      263,
                      "Camera"
                    ],
                    [
                      "Samsung Galaxy Tab S9",
                      492.03,
                      572,
                      0.62,
                      231,
                      "Tablet"
                    ],
                    [
                      "Nikon Z6 II",
                      792.11,
                      890,
                      0.63,
                      366,
                      "Camera"
                    ],
                    [
                      "Sony Alpha A6400",
                      1056.49,
                      489,
                      0.73,
                      32,
                      "Camera"
                    ],
                    [
                      "Xiaomi 13 Pro",
                      1411.75,
                      418,
                      0.13,
                      259,
                      "Smartphone"
                    ],
                    [
                      "Lenovo Tab P11 Pro",
                      174.69,
                      689,
                      0.72,
                      19,
                      "Tablet"
                    ],
                    [
                      "Microsoft Surface Pro 9",
                      1618.88,
                      849,
                      0.91,
                      255,
                      "Tablet"
                    ],
                    [
                      "iPad Air",
                      1293.01,
                      61,
                      0.18,
                      334,
                      "Tablet"
                    ],
                    [
                      "Fujifilm X-T4",
                      255.34,
                      144,
                      0.24,
                      109,
                      "Camera"
                    ],
                    [
                      "Apple Watch Series 9",
                      1759.8,
                      215,
                      0.97,
                      299,
                      "Smartwatch"
                    ],
                    [
                      "Samsung Galaxy Tab S9 v63",
                      1849.66,
                      2,
                      0.18,
                      189,
                      "Tablet"
                    ],
                    [
                      "Sony WH-1000XM5",
                      216.05,
                      159,
                      0.85,
                      232,
                      "Headphones"
                    ],
                    [
                      "Panasonic Lumix GH6",
                      626.07,
                      738,
                      0.49,
                      403,
                      "Camera"
                    ],
                    [
                      "OnePlus 12",
                      1631.78,
                      997,
                      0.25,
                      259,
                      "Smartphone"
                    ],
                    [
                      "Garmin Venu 2",
                      1521.69,
                      780,
                      0.87,
                      156,
                      "Smartwatch"
                    ],
                    [
                      "Sennheiser Momentum 4",
                      450.59,
                      119,
                      0.45,
                      451,
                      "Headphones"
                    ],
                    [
                      "Bose QuietComfort 45",
                      497.76,
                      892,
                      0.51,
                      105,
                      "Headphones"
                    ],
                    [
                      "Google Pixel 8",
                      803.9,
                      88,
                      0.36,
                      266,
                      "Smartphone"
                    ],
                    [
                      "Galaxy Watch 6",
                      1020.59,
                      328,
                      0.59,
                      334,
                      "Smartwatch"
                    ],
                    [
                      "Fujifilm X-T4 v31",
                      1274.68,
                      579,
                      0.16,
                      13,
                      "Camera"
                    ],
                    [
                      "Asus ROG Zephyrus G14",
                      800.94,
                      909,
                      0.39,
                      25,
                      "Laptop"
                    ],
                    [
                      "Apple Watch Series 9 v9",
                      978.82,
                      356,
                      0.97,
                      289,
                      "Smartwatch"
                    ],
                    [
                      "iPhone 15",
                      1520.19,
                      609,
                      0.26,
                      345,
                      "Smartphone"
                    ],
                    [
                      "Apple AirPods Max",
                      169.7,
                      266,
                      0.66,
                      256,
                      "Headphones"
                    ],
                    [
                      "Fujifilm X-T4 v61",
                      579.63,
                      616,
                      0.33,
                      267,
                      "Camera"
                    ],
                    [
                      "Garmin Venu 2 v66",
                      1455.36,
                      951,
                      0.77,
                      485,
                      "Smartwatch"
                    ],
                    [
                      "HP Spectre x360",
                      1800.89,
                      322,
                      0.13,
                      393,
                      "Laptop"
                    ],
                    [
                      "MacBook Air M3",
                      1072.19,
                      634,
                      0.97,
                      169,
                      "Laptop"
                    ],
                    [
                      "Lenovo Tab P11 Pro v75",
                      1111.02,
                      987,
                      0.45,
                      484,
                      "Tablet"
                    ],
                    [
                      "Microsoft Surface Pro 9 v70",
                      303.63,
                      540,
                      0.24,
                      349,
                      "Tablet"
                    ],
                    [
                      "Samsung Galaxy S24",
                      950.08,
                      648,
                      0.07,
                      161,
                      "Smartphone"
                    ],
                    [
                      "Garmin Venu 2 v2",
                      1111.97,
                      194,
                      0.17,
                      405,
                      "Smartwatch"
                    ],
                    [
                      "Garmin Venu 2 v70",
                      560.69,
                      920,
                      0.52,
                      187,
                      "Smartwatch"
                    ],
                    [
                      "Sony WH-1000XM5 v53",
                      611.56,
                      737,
                      0.34,
                      172,
                      "Headphones"
                    ],
                    [
                      "Sennheiser Momentum 4 v14",
                      816.84,
                      331,
                      0.83,
                      389,
                      "Headphones"
                    ],
                    [
                      "Sony WH-1000XM5 v70",
                      138.14,
                      169,
                      0.43,
                      42,
                      "Headphones"
                    ],
                    [
                      "iPad Air v17",
                      711.95,
                      520,
                      0.25,
                      426,
                      "Tablet"
                    ],
                    [
                      "Fitbit Versa 4 v90",
                      501.75,
                      462,
                      0.62,
                      454,
                      "Smartwatch"
                    ],
                    [
                      "Apple Watch Series 9 v67",
                      722.24,
                      39,
                      0.71,
                      188,
                      "Smartwatch"
                    ],
                    [
                      "Dell XPS 15",
                      327.55,
                      536,
                      0.17,
                      436,
                      "Laptop"
                    ],
                    [
                      "Samsung Galaxy Tab S9 v90",
                      1792,
                      260,
                      0.17,
                      110,
                      "Tablet"
                    ],
                    [
                      "Sony Alpha A6400 v82",
                      1227.83,
                      394,
                      0.04,
                      277,
                      "Camera"
                    ],
                    [
                      "Lenovo Tab P11 Pro v84",
                      1390.29,
                      954,
                      0.74,
                      332,
                      "Tablet"
                    ],
                    [
                      "Nikon Z6 II v11",
                      1599.43,
                      225,
                      0.66,
                      74,
                      "Camera"
                    ],
                    [
                      "Lenovo ThinkPad X1",
                      1047.04,
                      983,
                      0.47,
                      426,
                      "Laptop"
                    ],
                    [
                      "Xiaomi 13 Pro v57",
                      265.15,
                      123,
                      0.84,
                      177,
                      "Smartphone"
                    ],
                    [
                      "Fitbit Versa 4 v10",
                      1120.5,
                      974,
                      0.81,
                      339,
                      "Smartwatch"
                    ],
                    [
                      "MacBook Air M3 v95",
                      1215,
                      37,
                      0.59,
                      52,
                      "Laptop"
                    ],
                    [
                      "Garmin Venu 2 v7",
                      1516.34,
                      327,
                      0.87,
                      53,
                      "Smartwatch"
                    ],
                    [
                      "Sony WH-1000XM5 v82",
                      920.15,
                      250,
                      0.21,
                      294,
                      "Headphones"
                    ],
                    [
                      "iPhone 15 v88",
                      342.4,
                      900,
                      0.11,
                      406,
                      "Smartphone"
                    ],
                    [
                      "Google Pixel 8 v37",
                      639.17,
                      175,
                      0.27,
                      21,
                      "Smartphone"
                    ],
                    [
                      "Asus ROG Zephyrus G14 v71",
                      789.86,
                      601,
                      0.06,
                      104,
                      "Laptop"
                    ],
                    [
                      "Samsung Galaxy S24 v82",
                      1327.24,
                      913,
                      0.53,
                      311,
                      "Smartphone"
                    ],
                    [
                      "Fujifilm X-T4 v10",
                      1184.48,
                      453,
                      0.94,
                      395,
                      "Camera"
                    ],
                    [
                      "Google Pixel 8 v8",
                      776.58,
                      36,
                      0.04,
                      262,
                      "Smartphone"
                    ],
                    [
                      "Garmin Venu 2 v20",
                      1974.38,
                      315,
                      0.12,
                      251,
                      "Smartwatch"
                    ],
                    [
                      "Apple Watch Series 9 v60",
                      1250.97,
                      687,
                      0.45,
                      44,
                      "Smartwatch"
                    ],
                    [
                      "Fitbit Versa 4 v11",
                      550.73,
                      972,
                      0.93,
                      224,
                      "Smartwatch"
                    ],
                    [
                      "Fitbit Versa 4 v74",
                      293.39,
                      795,
                      0.32,
                      346,
                      "Smartwatch"
                    ],
                    [
                      "Panasonic Lumix GH6 v95",
                      390.43,
                      964,
                      0.51,
                      99,
                      "Camera"
                    ],
                    [
                      "Microsoft Surface Pro 9 v50",
                      567.32,
                      972,
                      0.04,
                      273,
                      "Tablet"
                    ],
                    [
                      "Apple AirPods Max v95",
                      405.29,
                      592,
                      0.15,
                      102,
                      "Headphones"
                    ],
                    [
                      "Dell XPS 15 v85",
                      454.48,
                      113,
                      0.99,
                      419,
                      "Laptop"
                    ],
                    [
                      "Garmin Venu 2 v5",
                      641.68,
                      39,
                      0.97,
                      467,
                      "Smartwatch"
                    ],
                    [
                      "Samsung Galaxy S24 v33",
                      429.41,
                      300,
                      0,
                      99,
                      "Smartphone"
                    ],
                    [
                      "Garmin Venu 2 v85",
                      1803.85,
                      223,
                      0.95,
                      427,
                      "Smartwatch"
                    ],
                    [
                      "iPhone 15 v98",
                      252.44,
                      317,
                      0.64,
                      124,
                      "Smartphone"
                    ],
                    [
                      "Sennheiser Momentum 4 v39",
                      1096.57,
                      348,
                      0.87,
                      114,
                      "Headphones"
                    ],
                    [
                      "Bose QuietComfort 45 v56",
                      879.75,
                      114,
                      0.45,
                      400,
                      "Headphones"
                    ],
                    [
                      "Sennheiser Momentum 4 v29",
                      1966.52,
                      697,
                      0.52,
                      205,
                      "Headphones"
                    ],
                    [
                      "Samsung Galaxy S24 v71",
                      312.87,
                      322,
                      0.49,
                      323,
                      "Smartphone"
                    ],
                    [
                      "Fitbit Versa 4 v27",
                      855.93,
                      567,
                      0.67,
                      123,
                      "Smartwatch"
                    ],
                    [
                      "Apple AirPods Max v11",
                      1941.99,
                      39,
                      0.14,
                      84,
                      "Headphones"
                    ],
                    [
                      "Canon EOS R6 v66",
                      1744.46,
                      865,
                      0.03,
                      422,
                      "Camera"
                    ],
                    [
                      "Samsung Galaxy S24 v52",
                      1652.44,
                      39,
                      0.31,
                      385,
                      "Smartphone"
                    ],
                    [
                      "iPhone 15 v60",
                      590.02,
                      858,
                      0.7,
                      429,
                      "Smartphone"
                    ],
                    [
                      "Apple Watch Series 9 v96",
                      424.69,
                      972,
                      0.2,
                      226,
                      "Smartwatch"
                    ],
                    [
                      "Xiaomi 13 Pro v12",
                      1370.42,
                      748,
                      0.67,
                      286,
                      "Smartphone"
                    ],
                    [
                      "Xiaomi 13 Pro v14",
                      1865.81,
                      288,
                      0.97,
                      258,
                      "Smartphone"
                    ],
                    [
                      "Sony WH-1000XM5 v2",
                      1157.85,
                      261,
                      0.09,
                      173,
                      "Headphones"
                    ],
                    [
                      "Galaxy Watch 6 v55",
                      1186.06,
                      215,
                      0.67,
                      403,
                      "Smartwatch"
                    ],
                    [
                      "Sennheiser Momentum 4 v57",
                      631.96,
                      146,
                      0.44,
                      366,
                      "Headphones"
                    ],
                    [
                      "Bose QuietComfort 45 v63",
                      1562.04,
                      335,
                      0.87,
                      466,
                      "Headphones"
                    ],
                    [
                      "Garmin Venu 2 v2",
                      455.38,
                      167,
                      0.18,
                      417,
                      "Smartwatch"
                    ],
                    [
                      "HP Spectre x360 v59",
                      714.99,
                      91,
                      0.69,
                      201,
                      "Laptop"
                    ],
                    [
                      "Sony WH-1000XM5 v77",
                      908.33,
                      352,
                      0.84,
                      236,
                      "Headphones"
                    ],
                    [
                      "Fujifilm X-T4 v4",
                      1064.46,
                      570,
                      0.94,
                      186,
                      "Camera"
                    ],
                    [
                      "Canon EOS R6 v77",
                      560.58,
                      570,
                      0.68,
                      108,
                      "Camera"
                    ],
                    [
                      "Samsung Galaxy S24 v10",
                      318.19,
                      815,
                      0.5,
                      45,
                      "Smartphone"
                    ],
                    [
                      "Canon EOS R6 v67",
                      1260.18,
                      680,
                      0.62,
                      475,
                      "Camera"
                    ],
                    [
                      "OnePlus 12 v14",
                      648.4,
                      780,
                      0.87,
                      496,
                      "Smartphone"
                    ],
                    [
                      "MacBook Air M3 v25",
                      1204.35,
                      362,
                      0.57,
                      105,
                      "Laptop"
                    ],
                    [
                      "Garmin Venu 2 v99",
                      393.29,
                      556,
                      0.03,
                      161,
                      "Smartwatch"
                    ],
                    [
                      "Fitbit Versa 4 v70",
                      1014.17,
                      344,
                      0.93,
                      160,
                      "Smartwatch"
                    ],
                    [
                      "Apple Watch Series 9 v81",
                      1111.92,
                      692,
                      0.69,
                      199,
                      "Smartwatch"
                    ],
                    [
                      "Sony Alpha A6400 v41",
                      198.46,
                      169,
                      0.68,
                      233,
                      "Camera"
                    ],
                    [
                      "Asus ROG Zephyrus G14 v92",
                      739.55,
                      355,
                      0.22,
                      46,
                      "Laptop"
                    ],
                    [
                      "Nikon Z6 II v54",
                      355.39,
                      190,
                      0.66,
                      277,
                      "Camera"
                    ],
                    [
                      "Canon EOS R6 v74",
                      220.41,
                      666,
                      0.39,
                      378,
                      "Camera"
                    ],
                    [
                      "Asus ROG Zephyrus G14 v15",
                      1980.92,
                      421,
                      0.65,
                      192,
                      "Laptop"
                    ],
                    [
                      "Lenovo ThinkPad X1 v6",
                      712.47,
                      699,
                      0.11,
                      22,
                      "Laptop"
                    ],
                    [
                      "Asus ROG Zephyrus G14 v6",
                      1638.76,
                      6,
                      0.66,
                      288,
                      "Laptop"
                    ],
                    [
                      "HP Spectre x360 v97",
                      583.82,
                      132,
                      1,
                      226,
                      "Laptop"
                    ],
                    [
                      "Apple Watch Series 9 v71",
                      1394.86,
                      746,
                      0.05,
                      364,
                      "Smartwatch"
                    ],
                    [
                      "iPad Air v74",
                      1544.43,
                      556,
                      0.98,
                      370,
                      "Tablet"
                    ],
                    [
                      "Lenovo Tab P11 Pro v64",
                      1231.71,
                      825,
                      0.41,
                      295,
                      "Tablet"
                    ],
                    [
                      "Dell XPS 15 v82",
                      995.99,
                      760,
                      0.87,
                      282,
                      "Laptop"
                    ],
                    [
                      "Lenovo Tab P11 Pro v18",
                      882.5,
                      30,
                      0.78,
                      378,
                      "Tablet"
                    ],
                    [
                      "iPad Air v6",
                      762.85,
                      534,
                      0.57,
                      71,
                      "Tablet"
                    ],
                    [
                      "Lenovo ThinkPad X1 v55",
                      1866.11,
                      425,
                      0.74,
                      93,
                      "Laptop"
                    ],
                    [
                      "iPad Air v9",
                      1678.18,
                      393,
                      0.88,
                      377,
                      "Tablet"
                    ],
                    [
                      "Panasonic Lumix GH6 v92",
                      1933.55,
                      671,
                      0.4,
                      226,
                      "Camera"
                    ],
                    [
                      "OnePlus 12 v9",
                      336.16,
                      362,
                      0.33,
                      351,
                      "Smartphone"
                    ],
                    [
                      "Xiaomi 13 Pro v2",
                      1488.65,
                      436,
                      0.67,
                      406,
                      "Smartphone"
                    ],
                    [
                      "Asus ROG Zephyrus G14 v44",
                      1882.85,
                      669,
                      0.81,
                      196,
                      "Laptop"
                    ],
                    [
                      "Garmin Venu 2 v67",
                      444.34,
                      550,
                      0.76,
                      28,
                      "Smartwatch"
                    ],
                    [
                      "HP Spectre x360 v2",
                      226.34,
                      926,
                      0.8,
                      186,
                      "Laptop"
                    ],
                    [
                      "Garmin Venu 2 v79",
                      1508.13,
                      81,
                      0.44,
                      109,
                      "Smartwatch"
                    ],
                    [
                      "Samsung Galaxy S24 v9",
                      1191.5,
                      355,
                      0.82,
                      405,
                      "Smartphone"
                    ],
                    [
                      "Asus ROG Zephyrus G14 v83",
                      1699.47,
                      257,
                      0.12,
                      454,
                      "Laptop"
                    ],
                    [
                      "Apple AirPods Max v79",
                      365.57,
                      717,
                      0.54,
                      242,
                      "Headphones"
                    ],
                    [
                      "Panasonic Lumix GH6 v64",
                      1611.01,
                      588,
                      0.01,
                      412,
                      "Camera"
                    ],
                    [
                      "iPad Air v96",
                      483.09,
                      988,
                      0.32,
                      85,
                      "Tablet"
                    ],
                    [
                      "Apple Watch Series 9 v97",
                      410.95,
                      523,
                      0.37,
                      274,
                      "Smartwatch"
                    ],
                    [
                      "Apple AirPods Max v4",
                      412.11,
                      294,
                      0.4,
                      464,
                      "Headphones"
                    ],
                    [
                      "Lenovo Tab P11 Pro v37",
                      1647.69,
                      961,
                      0.7,
                      293,
                      "Tablet"
                    ],
                    [
                      "Samsung Galaxy Tab S9 v88",
                      1363.87,
                      223,
                      0.39,
                      215,
                      "Tablet"
                    ],
                    [
                      "HP Spectre x360 v38",
                      1093.82,
                      524,
                      0.45,
                      232,
                      "Laptop"
                    ],
                    [
                      "Lenovo Tab P11 Pro v30",
                      781.78,
                      45,
                      0.24,
                      393,
                      "Tablet"
                    ],
                    [
                      "Sony Alpha A6400 v80",
                      1766.68,
                      666,
                      0.37,
                      61,
                      "Camera"
                    ],
                    [
                      "Apple AirPods Max v25",
                      845.65,
                      112,
                      0.23,
                      348,
                      "Headphones"
                    ],
                    [
                      "Lenovo Tab P11 Pro v26",
                      1651.54,
                      232,
                      0.07,
                      376,
                      "Tablet"
                    ],
                    [
                      "Lenovo ThinkPad X1 v8",
                      934.36,
                      16,
                      0.6,
                      153,
                      "Laptop"
                    ],
                    [
                      "Canon EOS R6 v96",
                      816.19,
                      359,
                      0.67,
                      382,
                      "Camera"
                    ],
                    [
                      "Xiaomi 13 Pro v79",
                      979.09,
                      222,
                      0.62,
                      78,
                      "Smartphone"
                    ],
                    [
                      "Apple AirPods Max v95",
                      672.62,
                      865,
                      0.46,
                      108,
                      "Headphones"
                    ],
                    [
                      "Lenovo Tab P11 Pro v20",
                      1520.46,
                      699,
                      0.38,
                      405,
                      "Tablet"
                    ],
                    [
                      "MacBook Air M3 v71",
                      1055.17,
                      447,
                      0.86,
                      34,
                      "Laptop"
                    ],
                    [
                      "Xiaomi 13 Pro v38",
                      541.2,
                      855,
                      0.52,
                      445,
                      "Smartphone"
                    ],
                    [
                      "Xiaomi 13 Pro v36",
                      1809.19,
                      364,
                      0.48,
                      388,
                      "Smartphone"
                    ],
                    [
                      "Fitbit Versa 4 v8",
                      829.39,
                      674,
                      0.03,
                      478,
                      "Smartwatch"
                    ],
                    [
                      "Sony Alpha A6400 v24",
                      1132.75,
                      325,
                      0.34,
                      493,
                      "Camera"
                    ],
                    [
                      "Microsoft Surface Pro 9 v4",
                      1822.3,
                      466,
                      0.38,
                      62,
                      "Tablet"
                    ],
                    [
                      "Lenovo ThinkPad X1 v92",
                      1286.05,
                      413,
                      0.4,
                      160,
                      "Laptop"
                    ],
                    [
                      "Galaxy Watch 6 v33",
                      322.11,
                      454,
                      0.58,
                      153,
                      "Smartwatch"
                    ],
                    [
                      "Panasonic Lumix GH6 v86",
                      1885.68,
                      585,
                      0.53,
                      66,
                      "Camera"
                    ],
                    [
                      "Apple Watch Series 9 v51",
                      1292.65,
                      232,
                      0.61,
                      48,
                      "Smartwatch"
                    ],
                    [
                      "Bose QuietComfort 45 v17",
                      736.32,
                      223,
                      0.76,
                      118,
                      "Headphones"
                    ],
                    [
                      "Fujifilm X-T4 v99",
                      364.62,
                      993,
                      0.81,
                      190,
                      "Camera"
                    ],
                    [
                      "Canon EOS R6 v93",
                      1608.65,
                      830,
                      0.72,
                      51,
                      "Camera"
                    ],
                    [
                      "iPad Air v32",
                      1278.14,
                      411,
                      0.96,
                      195,
                      "Tablet"
                    ],
                    [
                      "Canon EOS R6 v9",
                      1113.58,
                      571,
                      0.02,
                      432,
                      "Camera"
                    ],
                    [
                      "Apple Watch Series 9 v78",
                      1798.4,
                      334,
                      0.2,
                      407,
                      "Smartwatch"
                    ],
                    [
                      "Panasonic Lumix GH6 v33",
                      1598.33,
                      221,
                      0.01,
                      232,
                      "Camera"
                    ],
                    [
                      "Samsung Galaxy Tab S9 v72",
                      388.18,
                      36,
                      0.65,
                      131,
                      "Tablet"
                    ],
                    [
                      "iPad Air v63",
                      692.27,
                      988,
                      0.9,
                      142,
                      "Tablet"
                    ],
                    [
                      "Sennheiser Momentum 4 v63",
                      572.13,
                      277,
                      0.24,
                      172,
                      "Headphones"
                    ],
                    [
                      "Garmin Venu 2 v24",
                      1513.5,
                      195,
                      0.93,
                      224,
                      "Smartwatch"
                    ],
                    [
                      "OnePlus 12 v62",
                      163.71,
                      915,
                      0.06,
                      230,
                      "Smartphone"
                    ],
                    [
                      "OnePlus 12 v38",
                      1182.79,
                      863,
                      0.93,
                      244,
                      "Smartphone"
                    ],
                    [
                      "Nikon Z6 II v35",
                      1548.67,
                      483,
                      0.35,
                      340,
                      "Camera"
                    ],
                    [
                      "Sennheiser Momentum 4 v61",
                      1765.85,
                      241,
                      0.1,
                      155,
                      "Headphones"
                    ],
                    [
                      "Dell XPS 15 v32",
                      749.96,
                      323,
                      0.49,
                      248,
                      "Laptop"
                    ],
                    [
                      "Nikon Z6 II v65",
                      1660.39,
                      730,
                      0.26,
                      85,
                      "Camera"
                    ],
                    [
                      "Bose QuietComfort 45 v74",
                      310.2,
                      191,
                      0.28,
                      18,
                      "Headphones"
                    ],
                    [
                      "Garmin Venu 2 v23",
                      1708.26,
                      16,
                      0.31,
                      83,
                      "Smartwatch"
                    ],
                    [
                      "Galaxy Watch 6 v66",
                      342.23,
                      523,
                      0.8,
                      451,
                      "Smartwatch"
                    ],
                    [
                      "Garmin Venu 2 v85",
                      854.85,
                      917,
                      0.54,
                      410,
                      "Smartwatch"
                    ],
                    [
                      "Garmin Venu 2 v63",
                      1614.86,
                      400,
                      0.31,
                      262,
                      "Smartwatch"
                    ],
                    [
                      "Apple Watch Series 9 v49",
                      384.84,
                      905,
                      0.61,
                      239,
                      "Smartwatch"
                    ],
                    [
                      "Sony WH-1000XM5 v16",
                      535.58,
                      885,
                      0.72,
                      16,
                      "Headphones"
                    ],
                    [
                      "Sennheiser Momentum 4 v35",
                      1472.28,
                      704,
                      0.27,
                      183,
                      "Headphones"
                    ],
                    [
                      "Lenovo Tab P11 Pro v29",
                      1468.07,
                      21,
                      0.41,
                      150,
                      "Tablet"
                    ],
                    [
                      "Google Pixel 8 v7",
                      1318.18,
                      473,
                      0.12,
                      177,
                      "Smartphone"
                    ],
                    [
                      "Fitbit Versa 4 v13",
                      1418.5,
                      119,
                      0.18,
                      179,
                      "Smartwatch"
                    ],
                    [
                      "Asus ROG Zephyrus G14 v8",
                      1131.18,
                      209,
                      0.68,
                      402,
                      "Laptop"
                    ],
                    [
                      "Bose QuietComfort 45 v13",
                      578.42,
                      305,
                      0.18,
                      443,
                      "Headphones"
                    ],
                    [
                      "Lenovo ThinkPad X1 v65",
                      756.82,
                      269,
                      0.53,
                      292,
                      "Laptop"
                    ],
                    [
                      "Lenovo ThinkPad X1 v35",
                      445.04,
                      703,
                      0.71,
                      131,
                      "Laptop"
                    ],
                    [
                      "MacBook Air M3 v54",
                      1826.06,
                      686,
                      0.11,
                      203,
                      "Laptop"
                    ],
                    [
                      "iPad Air v97",
                      1208.44,
                      284,
                      0.57,
                      14,
                      "Tablet"
                    ],
                    [
                      "Apple AirPods Max v37",
                      861.62,
                      715,
                      0.26,
                      38,
                      "Headphones"
                    ],
                    [
                      "Asus ROG Zephyrus G14 v6",
                      977.81,
                      675,
                      0.96,
                      174,
                      "Laptop"
                    ],
                    [
                      "Apple Watch Series 9 v96",
                      1899.84,
                      762,
                      0.48,
                      431,
                      "Smartwatch"
                    ],
                    [
                      "Fujifilm X-T4 v55",
                      391.37,
                      226,
                      0.81,
                      348,
                      "Camera"
                    ],
                    [
                      "HP Spectre x360 v82",
                      1213.84,
                      947,
                      0.55,
                      145,
                      "Laptop"
                    ],
                    [
                      "Lenovo Tab P11 Pro v78",
                      1061.19,
                      380,
                      0.04,
                      374,
                      "Tablet"
                    ],
                    [
                      "Sony WH-1000XM5 v37",
                      1261.76,
                      459,
                      0.63,
                      330,
                      "Headphones"
                    ],
                    [
                      "HP Spectre x360 v84",
                      1757.04,
                      28,
                      0.6,
                      154,
                      "Laptop"
                    ],
                    [
                      "Bose QuietComfort 45 v53",
                      1871.02,
                      906,
                      0.82,
                      336,
                      "Headphones"
                    ],
                    [
                      "Fujifilm X-T4 v86",
                      1173.75,
                      32,
                      0.88,
                      226,
                      "Camera"
                    ],
                    [
                      "Lenovo ThinkPad X1 v9",
                      1423.64,
                      645,
                      0.23,
                      310,
                      "Laptop"
                    ],
                    [
                      "iPad Air v74",
                      1852.75,
                      878,
                      0.21,
                      141,
                      "Tablet"
                    ],
                    [
                      "Xiaomi 13 Pro v27",
                      1443.75,
                      78,
                      0.61,
                      301,
                      "Smartphone"
                    ],
                    [
                      "Fitbit Versa 4 v65",
                      389.82,
                      927,
                      0.41,
                      79,
                      "Smartwatch"
                    ],
                    [
                      "Lenovo Tab P11 Pro v65",
                      1194.95,
                      946,
                      0.84,
                      261,
                      "Tablet"
                    ],
                    [
                      "Apple AirPods Max v8",
                      1252.76,
                      458,
                      0.9,
                      424,
                      "Headphones"
                    ],
                    [
                      "Asus ROG Zephyrus G14 v34",
                      905.85,
                      569,
                      0.35,
                      284,
                      "Laptop"
                    ],
                    [
                      "Apple Watch Series 9 v38",
                      1499.24,
                      982,
                      0.24,
                      454,
                      "Smartwatch"
                    ],
                    [
                      "Dell XPS 15 v68",
                      1875.3,
                      537,
                      0.78,
                      373,
                      "Laptop"
                    ],
                    [
                      "Apple AirPods Max v92",
                      1858.58,
                      481,
                      0.27,
                      191,
                      "Headphones"
                    ],
                    [
                      "HP Spectre x360 v70",
                      956.59,
                      429,
                      0.82,
                      176,
                      "Laptop"
                    ],
                    [
                      "Google Pixel 8 v99",
                      315.15,
                      737,
                      0.42,
                      100,
                      "Smartphone"
                    ],
                    [
                      "Galaxy Watch 6 v12",
                      1971.2,
                      284,
                      0.67,
                      211,
                      "Smartwatch"
                    ],
                    [
                      "Apple Watch Series 9 v75",
                      1693.91,
                      515,
                      0.1,
                      355,
                      "Smartwatch"
                    ],
                    [
                      "Sennheiser Momentum 4 v31",
                      336.86,
                      976,
                      0.62,
                      28,
                      "Headphones"
                    ],
                    [
                      "iPhone 15 v69",
                      1849.6,
                      98,
                      0.45,
                      48,
                      "Smartphone"
                    ],
                    [
                      "iPad Air v40",
                      1752.8,
                      396,
                      0.59,
                      135,
                      "Tablet"
                    ],
                    [
                      "Asus ROG Zephyrus G14 v89",
                      1085.79,
                      488,
                      0.17,
                      460,
                      "Laptop"
                    ],
                    [
                      "Fujifilm X-T4 v47",
                      1223.42,
                      38,
                      0.74,
                      182,
                      "Camera"
                    ],
                    [
                      "Lenovo ThinkPad X1 v96",
                      858.11,
                      270,
                      0.86,
                      150,
                      "Laptop"
                    ],
                    [
                      "HP Spectre x360 v68",
                      204.05,
                      886,
                      0.22,
                      251,
                      "Laptop"
                    ],
                    [
                      "iPad Air v28",
                      736.87,
                      796,
                      0.1,
                      229,
                      "Tablet"
                    ],
                    [
                      "Asus ROG Zephyrus G14 v91",
                      1625.42,
                      156,
                      0.02,
                      135,
                      "Laptop"
                    ],
                    [
                      "Google Pixel 8 v87",
                      108.8,
                      74,
                      0.64,
                      67,
                      "Smartphone"
                    ],
                    [
                      "Google Pixel 8 v92",
                      733.65,
                      883,
                      0.61,
                      157,
                      "Smartphone"
                    ],
                    [
                      "Fitbit Versa 4 v16",
                      856.52,
                      799,
                      0.55,
                      485,
                      "Smartwatch"
                    ],
                    [
                      "Apple AirPods Max v14",
                      1121.05,
                      129,
                      0.23,
                      465,
                      "Headphones"
                    ],
                    [
                      "Fujifilm X-T4 v32",
                      1847.73,
                      686,
                      0.39,
                      326,
                      "Camera"
                    ],
                    [
                      "Dell XPS 15 v46",
                      758.06,
                      973,
                      0.59,
                      392,
                      "Laptop"
                    ],
                    [
                      "HP Spectre x360 v44",
                      759.21,
                      83,
                      0.5,
                      370,
                      "Laptop"
                    ],
                    [
                      "Microsoft Surface Pro 9 v99",
                      1501.25,
                      21,
                      0.99,
                      432,
                      "Tablet"
                    ],
                    [
                      "Bose QuietComfort 45 v19",
                      959.21,
                      458,
                      0.14,
                      10,
                      "Headphones"
                    ],
                    [
                      "Samsung Galaxy S24 v25",
                      526.75,
                      538,
                      0.7,
                      396,
                      "Smartphone"
                    ],
                    [
                      "Panasonic Lumix GH6 v37",
                      959.64,
                      706,
                      0.4,
                      470,
                      "Camera"
                    ],
                    [
                      "Galaxy Watch 6 v53",
                      367.63,
                      848,
                      0.43,
                      357,
                      "Smartwatch"
                    ],
                    [
                      "Samsung Galaxy S24 v10",
                      435.14,
                      381,
                      0.72,
                      199,
                      "Smartphone"
                    ],
                    [
                      "Sony WH-1000XM5 v83",
                      1046.9,
                      747,
                      0.69,
                      200,
                      "Headphones"
                    ],
                    [
                      "Garmin Venu 2 v57",
                      895.96,
                      439,
                      0.99,
                      378,
                      "Smartwatch"
                    ],
                    [
                      "Microsoft Surface Pro 9 v36",
                      1838.21,
                      603,
                      0.13,
                      418,
                      "Tablet"
                    ],
                    [
                      "Lenovo Tab P11 Pro v87",
                      788.55,
                      988,
                      0.1,
                      321,
                      "Tablet"
                    ],
                    [
                      "Dell XPS 15 v82",
                      1203.12,
                      20,
                      0.72,
                      426,
                      "Laptop"
                    ],
                    [
                      "Apple AirPods Max v99",
                      1301.3,
                      302,
                      0.58,
                      431,
                      "Headphones"
                    ],
                    [
                      "Panasonic Lumix GH6 v4",
                      124.88,
                      975,
                      0.27,
                      126,
                      "Camera"
                    ],
                    [
                      "Apple Watch Series 9 v95",
                      1360.72,
                      868,
                      0.08,
                      143,
                      "Smartwatch"
                    ],
                    [
                      "OnePlus 12 v10",
                      438.27,
                      954,
                      0.09,
                      67,
                      "Smartphone"
                    ],
                    [
                      "Bose QuietComfort 45 v22",
                      1926.03,
                      83,
                      0.89,
                      53,
                      "Headphones"
                    ],
                    [
                      "Sennheiser Momentum 4 v24",
                      382.46,
                      773,
                      0.19,
                      182,
                      "Headphones"
                    ],
                    [
                      "Samsung Galaxy Tab S9 v20",
                      887.79,
                      658,
                      0.32,
                      169,
                      "Tablet"
                    ],
                    [
                      "Lenovo ThinkPad X1 v81",
                      262.16,
                      952,
                      0.23,
                      182,
                      "Laptop"
                    ],
                    [
                      "Lenovo ThinkPad X1 v24",
                      1994.06,
                      452,
                      0.35,
                      326,
                      "Laptop"
                    ],
                    [
                      "Fitbit Versa 4 v27",
                      1054.17,
                      386,
                      0.07,
                      312,
                      "Smartwatch"
                    ],
                    [
                      "Lenovo Tab P11 Pro v38",
                      1231.23,
                      506,
                      0.52,
                      158,
                      "Tablet"
                    ],
                    [
                      "Apple AirPods Max v51",
                      227.45,
                      256,
                      0.07,
                      89,
                      "Headphones"
                    ],
                    [
                      "Canon EOS R6 v51",
                      1524.92,
                      569,
                      0.8,
                      383,
                      "Camera"
                    ],
                    [
                      "Lenovo Tab P11 Pro v38",
                      498.82,
                      891,
                      0.23,
                      222,
                      "Tablet"
                    ],
                    [
                      "Fitbit Versa 4 v96",
                      1806.3,
                      933,
                      0.54,
                      212,
                      "Smartwatch"
                    ],
                    [
                      "Galaxy Watch 6 v94",
                      489.77,
                      526,
                      0.88,
                      261,
                      "Smartwatch"
                    ],
                    [
                      "iPad Air v57",
                      462.31,
                      161,
                      0.65,
                      238,
                      "Tablet"
                    ],
                    [
                      "Apple Watch Series 9 v11",
                      169.44,
                      956,
                      0.53,
                      173,
                      "Smartwatch"
                    ],
                    [
                      "Microsoft Surface Pro 9 v78",
                      996.93,
                      162,
                      0.32,
                      236,
                      "Tablet"
                    ],
                    [
                      "Samsung Galaxy S24 v40",
                      1173.2,
                      831,
                      0.33,
                      156,
                      "Smartphone"
                    ],
                    [
                      "iPad Air v30",
                      224.85,
                      792,
                      0.67,
                      29,
                      "Tablet"
                    ],
                    [
                      "Samsung Galaxy Tab S9 v63",
                      1573.5,
                      791,
                      0.99,
                      450,
                      "Tablet"
                    ],
                    [
                      "Apple Watch Series 9 v14",
                      961.25,
                      523,
                      0.66,
                      411,
                      "Smartwatch"
                    ],
                    [
                      "Garmin Venu 2 v14",
                      1096.34,
                      785,
                      0.56,
                      56,
                      "Smartwatch"
                    ],
                    [
                      "Dell XPS 15 v88",
                      937.45,
                      270,
                      0.73,
                      242,
                      "Laptop"
                    ],
                    [
                      "HP Spectre x360 v14",
                      861.45,
                      491,
                      0.47,
                      314,
                      "Laptop"
                    ],
                    [
                      "iPhone 15 v97",
                      1163.32,
                      207,
                      0.06,
                      23,
                      "Smartphone"
                    ],
                    [
                      "Asus ROG Zephyrus G14 v80",
                      394.96,
                      538,
                      0.56,
                      152,
                      "Laptop"
                    ],
                    [
                      "Lenovo Tab P11 Pro v97",
                      445.66,
                      583,
                      0.96,
                      424,
                      "Tablet"
                    ],
                    [
                      "Apple Watch Series 9 v96",
                      1737.39,
                      59,
                      0.18,
                      10,
                      "Smartwatch"
                    ],
                    [
                      "Dell XPS 15 v40",
                      1897.62,
                      429,
                      0.69,
                      382,
                      "Laptop"
                    ],
                    [
                      "MacBook Air M3 v13",
                      809.29,
                      984,
                      0.2,
                      63,
                      "Laptop"
                    ],
                    [
                      "OnePlus 12 v49",
                      614.41,
                      656,
                      0.54,
                      383,
                      "Smartphone"
                    ],
                    [
                      "Bose QuietComfort 45 v50",
                      1323.6,
                      604,
                      0.1,
                      268,
                      "Headphones"
                    ],
                    [
                      "Samsung Galaxy S24 v92",
                      876.59,
                      308,
                      0.45,
                      153,
                      "Smartphone"
                    ],
                    [
                      "Samsung Galaxy Tab S9 v71",
                      148.23,
                      519,
                      0.76,
                      480,
                      "Tablet"
                    ],
                    [
                      "Apple Watch Series 9 v21",
                      396.69,
                      590,
                      0.35,
                      450,
                      "Smartwatch"
                    ],
                    [
                      "iPhone 15 v35",
                      1460.35,
                      26,
                      0.66,
                      468,
                      "Smartphone"
                    ],
                    [
                      "Lenovo ThinkPad X1 v57",
                      1351.96,
                      685,
                      0.8,
                      21,
                      "Laptop"
                    ],
                    [
                      "Garmin Venu 2 v4",
                      151.48,
                      561,
                      0.93,
                      339,
                      "Smartwatch"
                    ],
                    [
                      "Fitbit Versa 4 v97",
                      521.75,
                      198,
                      0.23,
                      233,
                      "Smartwatch"
                    ],
                    [
                      "MacBook Air M3 v55",
                      539.04,
                      386,
                      0.4,
                      281,
                      "Laptop"
                    ],
                    [
                      "Xiaomi 13 Pro v31",
                      1376.6,
                      348,
                      0.15,
                      465,
                      "Smartphone"
                    ],
                    [
                      "Lenovo ThinkPad X1 v59",
                      137.45,
                      959,
                      0.99,
                      367,
                      "Laptop"
                    ],
                    [
                      "Sennheiser Momentum 4 v90",
                      297.81,
                      939,
                      0.93,
                      469,
                      "Headphones"
                    ],
                    [
                      "Garmin Venu 2 v31",
                      1619.84,
                      692,
                      0.54,
                      417,
                      "Smartwatch"
                    ],
                    [
                      "Fujifilm X-T4 v8",
                      439.23,
                      535,
                      0.84,
                      165,
                      "Camera"
                    ],
                    [
                      "Panasonic Lumix GH6 v64",
                      1340.22,
                      827,
                      0.52,
                      382,
                      "Camera"
                    ],
                    [
                      "Samsung Galaxy Tab S9 v70",
                      552.55,
                      377,
                      0.62,
                      17,
                      "Tablet"
                    ],
                    [
                      "MacBook Air M3 v21",
                      288.94,
                      898,
                      0.09,
                      131,
                      "Laptop"
                    ],
                    [
                      "HP Spectre x360 v67",
                      562.03,
                      915,
                      0.76,
                      357,
                      "Laptop"
                    ],
                    [
                      "Samsung Galaxy Tab S9 v28",
                      1472.31,
                      557,
                      0.13,
                      173,
                      "Tablet"
                    ],
                    [
                      "Microsoft Surface Pro 9 v76",
                      1725.82,
                      526,
                      0.83,
                      99,
                      "Tablet"
                    ],
                    [
                      "Lenovo Tab P11 Pro v78",
                      1677.42,
                      152,
                      0.78,
                      145,
                      "Tablet"
                    ],
                    [
                      "Apple Watch Series 9 v10",
                      854.65,
                      733,
                      0.71,
                      195,
                      "Smartwatch"
                    ],
                    [
                      "Sony WH-1000XM5 v66",
                      1369.36,
                      205,
                      0.04,
                      325,
                      "Headphones"
                    ],
                    [
                      "Asus ROG Zephyrus G14 v33",
                      489.47,
                      454,
                      0.3,
                      187,
                      "Laptop"
                    ],
                    [
                      "Garmin Venu 2 v5",
                      656.98,
                      272,
                      0.26,
                      37,
                      "Smartwatch"
                    ],
                    [
                      "Samsung Galaxy Tab S9 v23",
                      1803.04,
                      893,
                      0.36,
                      229,
                      "Tablet"
                    ],
                    [
                      "Dell XPS 15 v26",
                      124.7,
                      235,
                      0.09,
                      366,
                      "Laptop"
                    ],
                    [
                      "Garmin Venu 2 v86",
                      262.47,
                      851,
                      0.94,
                      50,
                      "Smartwatch"
                    ],
                    [
                      "Sony WH-1000XM5 v46",
                      494.98,
                      739,
                      0.55,
                      237,
                      "Headphones"
                    ],
                    [
                      "Apple Watch Series 9 v35",
                      150.41,
                      520,
                      0.31,
                      201,
                      "Smartwatch"
                    ],
                    [
                      "Sony WH-1000XM5 v66",
                      444.73,
                      677,
                      0.4,
                      420,
                      "Headphones"
                    ],
                    [
                      "iPad Air v31",
                      1207.78,
                      943,
                      0.45,
                      456,
                      "Tablet"
                    ],
                    [
                      "Bose QuietComfort 45 v94",
                      900.71,
                      955,
                      0.6,
                      154,
                      "Headphones"
                    ],
                    [
                      "MacBook Air M3 v2",
                      1796.08,
                      830,
                      0.52,
                      210,
                      "Laptop"
                    ],
                    [
                      "Microsoft Surface Pro 9 v62",
                      1653.14,
                      725,
                      0.92,
                      426,
                      "Tablet"
                    ],
                    [
                      "Dell XPS 15 v29",
                      749.45,
                      500,
                      0.5,
                      221,
                      "Laptop"
                    ],
                    [
                      "Nikon Z6 II v99",
                      592.9,
                      116,
                      0.99,
                      470,
                      "Camera"
                    ],
                    [
                      "iPhone 15 v99",
                      821.42,
                      385,
                      0.85,
                      229,
                      "Smartphone"
                    ],
                    [
                      "Sony WH-1000XM5 v3",
                      1221.56,
                      343,
                      0.21,
                      249,
                      "Headphones"
                    ],
                    [
                      "Samsung Galaxy S24 v33",
                      609.32,
                      583,
                      0.93,
                      422,
                      "Smartphone"
                    ],
                    [
                      "Google Pixel 8 v97",
                      1285.88,
                      394,
                      0.12,
                      406,
                      "Smartphone"
                    ],
                    [
                      "Sony WH-1000XM5 v11",
                      877.88,
                      63,
                      0.82,
                      55,
                      "Headphones"
                    ],
                    [
                      "Microsoft Surface Pro 9 v5",
                      1148.89,
                      716,
                      0.38,
                      44,
                      "Tablet"
                    ],
                    [
                      "Panasonic Lumix GH6 v33",
                      928.64,
                      720,
                      0.88,
                      262,
                      "Camera"
                    ],
                    [
                      "HP Spectre x360 v90",
                      659.48,
                      71,
                      0.87,
                      399,
                      "Laptop"
                    ],
                    [
                      "Galaxy Watch 6 v35",
                      1902.06,
                      788,
                      0.81,
                      91,
                      "Smartwatch"
                    ],
                    [
                      "Dell XPS 15 v70",
                      1550.85,
                      273,
                      0.79,
                      380,
                      "Laptop"
                    ],
                    [
                      "Fitbit Versa 4 v61",
                      366.22,
                      989,
                      0.3,
                      265,
                      "Smartwatch"
                    ],
                    [
                      "MacBook Air M3 v18",
                      1750.09,
                      319,
                      0.08,
                      206,
                      "Laptop"
                    ],
                    [
                      "Sony WH-1000XM5 v14",
                      1026.12,
                      337,
                      0.4,
                      312,
                      "Headphones"
                    ],
                    [
                      "Sony Alpha A6400 v48",
                      1799.65,
                      365,
                      0.17,
                      418,
                      "Camera"
                    ],
                    [
                      "Garmin Venu 2 v57",
                      1619.72,
                      494,
                      0.69,
                      459,
                      "Smartwatch"
                    ],
                    [
                      "Lenovo Tab P11 Pro v57",
                      907.91,
                      606,
                      0.35,
                      19,
                      "Tablet"
                    ],
                    [
                      "MacBook Air M3 v19",
                      142.69,
                      165,
                      0.98,
                      321,
                      "Laptop"
                    ],
                    [
                      "Dell XPS 15 v54",
                      610.49,
                      543,
                      0.64,
                      295,
                      "Laptop"
                    ],
                    [
                      "Apple Watch Series 9 v32",
                      1129.11,
                      10,
                      0.82,
                      251,
                      "Smartwatch"
                    ],
                    [
                      "Lenovo Tab P11 Pro v83",
                      1303.61,
                      300,
                      0.13,
                      260,
                      "Tablet"
                    ],
                    [
                      "Lenovo Tab P11 Pro v34",
                      589.99,
                      728,
                      0.86,
                      374,
                      "Tablet"
                    ],
                    [
                      "Bose QuietComfort 45 v36",
                      364.78,
                      800,
                      0.92,
                      14,
                      "Headphones"
                    ],
                    [
                      "Sony WH-1000XM5 v85",
                      1686.37,
                      101,
                      0.49,
                      128,
                      "Headphones"
                    ],
                    [
                      "Sennheiser Momentum 4 v89",
                      1970.36,
                      424,
                      0.61,
                      298,
                      "Headphones"
                    ],
                    [
                      "Sennheiser Momentum 4 v23",
                      1098.81,
                      391,
                      0.76,
                      383,
                      "Headphones"
                    ],
                    [
                      "Apple AirPods Max v80",
                      426.19,
                      778,
                      0.17,
                      74,
                      "Headphones"
                    ],
                    [
                      "Bose QuietComfort 45 v60",
                      617.38,
                      213,
                      0.5,
                      155,
                      "Headphones"
                    ],
                    [
                      "Fujifilm X-T4 v12",
                      134.94,
                      690,
                      0.4,
                      233,
                      "Camera"
                    ],
                    [
                      "Samsung Galaxy Tab S9 v35",
                      1837.17,
                      87,
                      0.15,
                      248,
                      "Tablet"
                    ],
                    [
                      "Sennheiser Momentum 4 v77",
                      323.73,
                      552,
                      0.37,
                      186,
                      "Headphones"
                    ],
                    [
                      "iPad Air v48",
                      1195.38,
                      400,
                      0.07,
                      276,
                      "Tablet"
                    ],
                    [
                      "iPad Air v50",
                      620.7,
                      587,
                      0.03,
                      350,
                      "Tablet"
                    ],
                    [
                      "Xiaomi 13 Pro v4",
                      1152.94,
                      888,
                      0.14,
                      291,
                      "Smartphone"
                    ],
                    [
                      "Panasonic Lumix GH6 v63",
                      1337.7,
                      45,
                      0.96,
                      72,
                      "Camera"
                    ],
                    [
                      "Sony WH-1000XM5 v83",
                      1676.51,
                      671,
                      0.55,
                      226,
                      "Headphones"
                    ],
                    [
                      "Dell XPS 15 v93",
                      492.2,
                      462,
                      0.97,
                      351,
                      "Laptop"
                    ],
                    [
                      "Garmin Venu 2 v69",
                      120.89,
                      591,
                      0.43,
                      324,
                      "Smartwatch"
                    ],
                    [
                      "Dell XPS 15 v26",
                      360.08,
                      309,
                      0.31,
                      292,
                      "Laptop"
                    ],
                    [
                      "Nikon Z6 II v80",
                      1810.04,
                      85,
                      0.51,
                      186,
                      "Camera"
                    ],
                    [
                      "Apple Watch Series 9 v47",
                      1760.39,
                      91,
                      0.44,
                      470,
                      "Smartwatch"
                    ],
                    [
                      "Canon EOS R6 v78",
                      1235.08,
                      659,
                      0.11,
                      426,
                      "Camera"
                    ],
                    [
                      "Lenovo Tab P11 Pro v62",
                      1240.98,
                      672,
                      0.64,
                      107,
                      "Tablet"
                    ],
                    [
                      "Fitbit Versa 4 v97",
                      1363.57,
                      713,
                      0.22,
                      114,
                      "Smartwatch"
                    ],
                    [
                      "Lenovo Tab P11 Pro v96",
                      433.21,
                      935,
                      0.62,
                      108,
                      "Tablet"
                    ],
                    [
                      "MacBook Air M3 v88",
                      1837.38,
                      927,
                      0.65,
                      394,
                      "Laptop"
                    ],
                    [
                      "MacBook Air M3 v20",
                      895.66,
                      241,
                      0.15,
                      414,
                      "Laptop"
                    ],
                    [
                      "Galaxy Watch 6 v32",
                      827.96,
                      864,
                      0.06,
                      320,
                      "Smartwatch"
                    ],
                    [
                      "Fitbit Versa 4 v63",
                      1085.94,
                      1,
                      0.78,
                      15,
                      "Smartwatch"
                    ],
                    [
                      "Sennheiser Momentum 4 v24",
                      189.24,
                      224,
                      0.46,
                      485,
                      "Headphones"
                    ],
                    [
                      "Canon EOS R6 v56",
                      415.94,
                      800,
                      0.06,
                      474,
                      "Camera"
                    ],
                    [
                      "Bose QuietComfort 45 v26",
                      1502.26,
                      744,
                      0.99,
                      206,
                      "Headphones"
                    ],
                    [
                      "Fujifilm X-T4 v72",
                      257.32,
                      972,
                      0.06,
                      360,
                      "Camera"
                    ],
                    [
                      "Sony WH-1000XM5 v44",
                      1245.99,
                      925,
                      0.7,
                      142,
                      "Headphones"
                    ],
                    [
                      "Samsung Galaxy Tab S9 v45",
                      566.16,
                      928,
                      0.98,
                      367,
                      "Tablet"
                    ],
                    [
                      "Garmin Venu 2 v27",
                      839.66,
                      588,
                      0.24,
                      268,
                      "Smartwatch"
                    ],
                    [
                      "Asus ROG Zephyrus G14 v44",
                      648.52,
                      115,
                      0.14,
                      446,
                      "Laptop"
                    ],
                    [
                      "Panasonic Lumix GH6 v33",
                      775.78,
                      665,
                      0.12,
                      32,
                      "Camera"
                    ],
                    [
                      "Panasonic Lumix GH6 v39",
                      1466.19,
                      917,
                      0.3,
                      494,
                      "Camera"
                    ],
                    [
                      "Dell XPS 15 v56",
                      664.53,
                      102,
                      0.1,
                      62,
                      "Laptop"
                    ],
                    [
                      "Apple AirPods Max v69",
                      1176.17,
                      193,
                      0.69,
                      174,
                      "Headphones"
                    ],
                    [
                      "Canon EOS R6 v78",
                      1004.5,
                      165,
                      0.06,
                      211,
                      "Camera"
                    ],
                    [
                      "Microsoft Surface Pro 9 v29",
                      1360.98,
                      870,
                      0.51,
                      467,
                      "Tablet"
                    ],
                    [
                      "Apple Watch Series 9 v66",
                      1879.98,
                      89,
                      1,
                      92,
                      "Smartwatch"
                    ],
                    [
                      "Dell XPS 15 v94",
                      1491.89,
                      685,
                      0.81,
                      154,
                      "Laptop"
                    ],
                    [
                      "Apple Watch Series 9 v2",
                      508.39,
                      121,
                      0.62,
                      94,
                      "Smartwatch"
                    ],
                    [
                      "Canon EOS R6 v62",
                      159.25,
                      142,
                      0.31,
                      87,
                      "Camera"
                    ],
                    [
                      "Panasonic Lumix GH6 v32",
                      598.3,
                      993,
                      0.62,
                      466,
                      "Camera"
                    ],
                    [
                      "MacBook Air M3 v67",
                      1230.65,
                      105,
                      0.53,
                      375,
                      "Laptop"
                    ],
                    [
                      "Samsung Galaxy Tab S9 v20",
                      197.71,
                      886,
                      0.43,
                      10,
                      "Tablet"
                    ],
                    [
                      "OnePlus 12 v19",
                      1043.1,
                      427,
                      0.13,
                      60,
                      "Smartphone"
                    ],
                    [
                      "MacBook Air M3 v6",
                      1234,
                      304,
                      0.89,
                      182,
                      "Laptop"
                    ],
                    [
                      "Samsung Galaxy S24 v55",
                      735.06,
                      871,
                      0.45,
                      214,
                      "Smartphone"
                    ],
                    [
                      "Bose QuietComfort 45 v88",
                      1564.73,
                      970,
                      0.19,
                      269,
                      "Headphones"
                    ],
                    [
                      "Samsung Galaxy S24 v76",
                      302.54,
                      316,
                      0.37,
                      455,
                      "Smartphone"
                    ],
                    [
                      "Lenovo Tab P11 Pro v79",
                      242.76,
                      962,
                      0.41,
                      458,
                      "Tablet"
                    ],
                    [
                      "Apple AirPods Max v55",
                      1483.56,
                      634,
                      0.83,
                      378,
                      "Headphones"
                    ],
                    [
                      "iPhone 15 v62",
                      1041.43,
                      901,
                      0.73,
                      497,
                      "Smartphone"
                    ],
                    [
                      "Apple AirPods Max v60",
                      1407.96,
                      8,
                      0.77,
                      297,
                      "Headphones"
                    ],
                    [
                      "OnePlus 12 v74",
                      926.17,
                      773,
                      0.01,
                      43,
                      "Smartphone"
                    ],
                    [
                      "Lenovo Tab P11 Pro v9",
                      568.16,
                      72,
                      0.42,
                      357,
                      "Tablet"
                    ],
                    [
                      "Samsung Galaxy S24 v18",
                      1656.29,
                      358,
                      0.48,
                      104,
                      "Smartphone"
                    ],
                    [
                      "OnePlus 12 v90",
                      1618.89,
                      222,
                      0.02,
                      81,
                      "Smartphone"
                    ],
                    [
                      "Google Pixel 8 v49",
                      1419.92,
                      415,
                      0.26,
                      48,
                      "Smartphone"
                    ],
                    [
                      "HP Spectre x360 v67",
                      617.08,
                      552,
                      0.76,
                      163,
                      "Laptop"
                    ],
                    [
                      "MacBook Air M3 v18",
                      1221.44,
                      369,
                      0.14,
                      259,
                      "Laptop"
                    ],
                    [
                      "Asus ROG Zephyrus G14 v88",
                      785.85,
                      715,
                      0.54,
                      171,
                      "Laptop"
                    ],
                    [
                      "Samsung Galaxy Tab S9 v17",
                      274.01,
                      263,
                      0.22,
                      447,
                      "Tablet"
                    ],
                    [
                      "Sony WH-1000XM5 v66",
                      1842.9,
                      839,
                      0.01,
                      127,
                      "Headphones"
                    ],
                    [
                      "Fujifilm X-T4 v49",
                      359.96,
                      689,
                      0.24,
                      268,
                      "Camera"
                    ],
                    [
                      "Xiaomi 13 Pro v31",
                      1905.45,
                      859,
                      0.98,
                      388,
                      "Smartphone"
                    ],
                    [
                      "Samsung Galaxy S24 v63",
                      947.41,
                      317,
                      0.8,
                      315,
                      "Smartphone"
                    ],
                    [
                      "Samsung Galaxy Tab S9 v46",
                      451.75,
                      83,
                      0.96,
                      277,
                      "Tablet"
                    ],
                    [
                      "OnePlus 12 v46",
                      1129.61,
                      317,
                      0.49,
                      458,
                      "Smartphone"
                    ],
                    [
                      "Dell XPS 15 v26",
                      1758.6,
                      110,
                      0.11,
                      63,
                      "Laptop"
                    ],
                    [
                      "Panasonic Lumix GH6 v43",
                      1491.23,
                      250,
                      0.55,
                      245,
                      "Camera"
                    ],
                    [
                      "Galaxy Watch 6 v16",
                      1632.47,
                      382,
                      0.45,
                      398,
                      "Smartwatch"
                    ],
                    [
                      "OnePlus 12 v13",
                      1351.69,
                      6,
                      0.84,
                      487,
                      "Smartphone"
                    ],
                    [
                      "HP Spectre x360 v24",
                      1415.33,
                      458,
                      0.1,
                      231,
                      "Laptop"
                    ],
                    [
                      "Galaxy Watch 6 v96",
                      1713.47,
                      83,
                      0.49,
                      260,
                      "Smartwatch"
                    ],
                    [
                      "Canon EOS R6 v42",
                      574.37,
                      207,
                      0.15,
                      322,
                      "Camera"
                    ],
                    [
                      "Galaxy Watch 6 v11",
                      1029.91,
                      899,
                      0.32,
                      410,
                      "Smartwatch"
                    ],
                    [
                      "Asus ROG Zephyrus G14 v7",
                      520.3,
                      389,
                      0.74,
                      121,
                      "Laptop"
                    ],
                    [
                      "Apple AirPods Max v43",
                      1976.57,
                      313,
                      0.48,
                      264,
                      "Headphones"
                    ],
                    [
                      "Apple AirPods Max v11",
                      1893.71,
                      21,
                      0.38,
                      312,
                      "Headphones"
                    ],
                    [
                      "Garmin Venu 2 v18",
                      174.91,
                      409,
                      0.39,
                      416,
                      "Smartwatch"
                    ],
                    [
                      "Microsoft Surface Pro 9 v49",
                      1440.59,
                      894,
                      0.46,
                      216,
                      "Tablet"
                    ],
                    [
                      "Apple Watch Series 9 v34",
                      1857.97,
                      514,
                      0.79,
                      238,
                      "Smartwatch"
                    ],
                    [
                      "OnePlus 12 v86",
                      443.09,
                      126,
                      0.89,
                      350,
                      "Smartphone"
                    ],
                    [
                      "OnePlus 12 v23",
                      1179.1,
                      808,
                      0.96,
                      407,
                      "Smartphone"
                    ],
                    [
                      "Apple AirPods Max v82",
                      1839.43,
                      699,
                      0.79,
                      75,
                      "Headphones"
                    ],
                    [
                      "iPad Air v82",
                      164.5,
                      873,
                      0.32,
                      84,
                      "Tablet"
                    ],
                    [
                      "Dell XPS 15 v28",
                      1425.1,
                      13,
                      0.69,
                      444,
                      "Laptop"
                    ],
                    [
                      "Xiaomi 13 Pro v16",
                      664.96,
                      970,
                      0.44,
                      112,
                      "Smartphone"
                    ],
                    [
                      "Apple AirPods Max v31",
                      1856.35,
                      977,
                      0.25,
                      431,
                      "Headphones"
                    ],
                    [
                      "Panasonic Lumix GH6 v30",
                      1945.01,
                      11,
                      0.84,
                      201,
                      "Camera"
                    ],
                    [
                      "Sony WH-1000XM5 v19",
                      1894.11,
                      86,
                      0.04,
                      261,
                      "Headphones"
                    ],
                    [
                      "Google Pixel 8 v68",
                      1001.01,
                      523,
                      0.9,
                      235,
                      "Smartphone"
                    ],
                    [
                      "Xiaomi 13 Pro v94",
                      1737.88,
                      908,
                      0.46,
                      303,
                      "Smartphone"
                    ],
                    [
                      "Sony WH-1000XM5 v69",
                      1704.64,
                      536,
                      0.64,
                      315,
                      "Headphones"
                    ],
                    [
                      "Lenovo ThinkPad X1 v9",
                      706.29,
                      300,
                      0.66,
                      107,
                      "Laptop"
                    ],
                    [
                      "Garmin Venu 2 v69",
                      1674.94,
                      242,
                      0.9,
                      347,
                      "Smartwatch"
                    ],
                    [
                      "iPhone 15 v34",
                      170.31,
                      121,
                      0.64,
                      295,
                      "Smartphone"
                    ],
                    [
                      "Apple AirPods Max v37",
                      1232.91,
                      146,
                      0.61,
                      344,
                      "Headphones"
                    ],
                    [
                      "Sony WH-1000XM5 v85",
                      537.02,
                      566,
                      0.07,
                      356,
                      "Headphones"
                    ],
                    [
                      "Samsung Galaxy Tab S9 v68",
                      329.08,
                      749,
                      0.52,
                      444,
                      "Tablet"
                    ],
                    [
                      "Apple Watch Series 9 v4",
                      246.21,
                      355,
                      0.15,
                      456,
                      "Smartwatch"
                    ],
                    [
                      "Panasonic Lumix GH6 v11",
                      1422.95,
                      684,
                      0.74,
                      491,
                      "Camera"
                    ],
                    [
                      "HP Spectre x360 v72",
                      745.76,
                      903,
                      0.51,
                      317,
                      "Laptop"
                    ],
                    [
                      "Fujifilm X-T4 v4",
                      1477.06,
                      732,
                      0.68,
                      258,
                      "Camera"
                    ],
                    [
                      "Apple Watch Series 9 v69",
                      224.18,
                      630,
                      0.04,
                      175,
                      "Smartwatch"
                    ],
                    [
                      "Apple Watch Series 9 v51",
                      699.05,
                      308,
                      0.08,
                      490,
                      "Smartwatch"
                    ],
                    [
                      "Garmin Venu 2 v58",
                      1125.03,
                      694,
                      0.72,
                      481,
                      "Smartwatch"
                    ],
                    [
                      "Sony Alpha A6400 v41",
                      1602.37,
                      287,
                      0.07,
                      344,
                      "Camera"
                    ],
                    [
                      "Apple Watch Series 9 v96",
                      705.63,
                      306,
                      0.07,
                      39,
                      "Smartwatch"
                    ],
                    [
                      "Sony WH-1000XM5 v57",
                      1289.19,
                      811,
                      0.01,
                      256,
                      "Headphones"
                    ],
                    [
                      "Nikon Z6 II v56",
                      1783.36,
                      593,
                      0.96,
                      115,
                      "Camera"
                    ],
                    [
                      "Fitbit Versa 4 v64",
                      1270.14,
                      965,
                      0.74,
                      60,
                      "Smartwatch"
                    ],
                    [
                      "Bose QuietComfort 45 v76",
                      542.62,
                      913,
                      0.35,
                      90,
                      "Headphones"
                    ],
                    [
                      "Samsung Galaxy Tab S9 v6",
                      146.36,
                      722,
                      0.3,
                      142,
                      "Tablet"
                    ],
                    [
                      "Apple Watch Series 9 v84",
                      1753.19,
                      661,
                      0.35,
                      294,
                      "Smartwatch"
                    ],
                    [
                      "Sony Alpha A6400 v35",
                      140.41,
                      548,
                      0.77,
                      397,
                      "Camera"
                    ],
                    [
                      "OnePlus 12 v84",
                      1761.93,
                      351,
                      0.66,
                      147,
                      "Smartphone"
                    ],
                    [
                      "Garmin Venu 2 v17",
                      1104.98,
                      311,
                      0.19,
                      193,
                      "Smartwatch"
                    ],
                    [
                      "iPhone 15 v44",
                      1884.23,
                      872,
                      0.17,
                      410,
                      "Smartphone"
                    ],
                    [
                      "Sony WH-1000XM5 v84",
                      1617.69,
                      58,
                      0.1,
                      339,
                      "Headphones"
                    ],
                    [
                      "Lenovo Tab P11 Pro v79",
                      1996.07,
                      642,
                      0.66,
                      282,
                      "Tablet"
                    ],
                    [
                      "HP Spectre x360 v57",
                      766.35,
                      923,
                      0.76,
                      349,
                      "Laptop"
                    ],
                    [
                      "Lenovo Tab P11 Pro v69",
                      1557.66,
                      713,
                      0.27,
                      481,
                      "Tablet"
                    ],
                    [
                      "Garmin Venu 2 v15",
                      863.67,
                      754,
                      0.02,
                      78,
                      "Smartwatch"
                    ],
                    [
                      "Google Pixel 8 v28",
                      1011.76,
                      34,
                      0.08,
                      43,
                      "Smartphone"
                    ],
                    [
                      "Samsung Galaxy S24 v30",
                      1292.26,
                      444,
                      0.97,
                      271,
                      "Smartphone"
                    ],
                    [
                      "Fujifilm X-T4 v81",
                      1759.99,
                      92,
                      0.3,
                      62,
                      "Camera"
                    ],
                    [
                      "iPhone 15 v88",
                      1969.76,
                      949,
                      0.77,
                      459,
                      "Smartphone"
                    ],
                    [
                      "Sony Alpha A6400 v14",
                      1559.72,
                      958,
                      0.62,
                      214,
                      "Camera"
                    ],
                    [
                      "Sennheiser Momentum 4 v89",
                      893.76,
                      206,
                      0.38,
                      135,
                      "Headphones"
                    ],
                    [
                      "Asus ROG Zephyrus G14 v78",
                      900.58,
                      352,
                      0.21,
                      244,
                      "Laptop"
                    ],
                    [
                      "Apple Watch Series 9 v87",
                      1501.41,
                      902,
                      0.12,
                      52,
                      "Smartwatch"
                    ],
                    [
                      "Sony Alpha A6400 v99",
                      553.68,
                      331,
                      0.62,
                      249,
                      "Camera"
                    ],
                    [
                      "HP Spectre x360 v25",
                      309.9,
                      816,
                      0.77,
                      468,
                      "Laptop"
                    ],
                    [
                      "Samsung Galaxy S24 v5",
                      773.78,
                      861,
                      0.64,
                      380,
                      "Smartphone"
                    ],
                    [
                      "iPhone 15 v31",
                      645.75,
                      724,
                      0.53,
                      120,
                      "Smartphone"
                    ],
                    [
                      "MacBook Air M3 v35",
                      662.99,
                      158,
                      0.04,
                      258,
                      "Laptop"
                    ],
                    [
                      "Samsung Galaxy S24 v84",
                      543.85,
                      953,
                      0.97,
                      160,
                      "Smartphone"
                    ],
                    [
                      "Sennheiser Momentum 4 v70",
                      179.98,
                      956,
                      0.8,
                      192,
                      "Headphones"
                    ],
                    [
                      "Sennheiser Momentum 4 v78",
                      133.96,
                      23,
                      0.29,
                      345,
                      "Headphones"
                    ],
                    [
                      "Lenovo ThinkPad X1 v68",
                      1976.67,
                      403,
                      0.98,
                      104,
                      "Laptop"
                    ],
                    [
                      "Canon EOS R6 v7",
                      912.77,
                      804,
                      0.6,
                      468,
                      "Camera"
                    ],
                    [
                      "Nikon Z6 II v19",
                      830.22,
                      515,
                      0.58,
                      383,
                      "Camera"
                    ],
                    [
                      "HP Spectre x360 v80",
                      1391.33,
                      731,
                      0.75,
                      409,
                      "Laptop"
                    ],
                    [
                      "Panasonic Lumix GH6 v54",
                      514.68,
                      363,
                      0.81,
                      17,
                      "Camera"
                    ],
                    [
                      "Fujifilm X-T4 v81",
                      1904.93,
                      381,
                      0.66,
                      397,
                      "Camera"
                    ],
                    [
                      "Bose QuietComfort 45 v4",
                      1594.06,
                      531,
                      0.13,
                      369,
                      "Headphones"
                    ],
                    [
                      "Panasonic Lumix GH6 v81",
                      269.88,
                      955,
                      0.34,
                      397,
                      "Camera"
                    ],
                    [
                      "iPad Air v82",
                      893.4,
                      151,
                      0.93,
                      193,
                      "Tablet"
                    ],
                    [
                      "Apple Watch Series 9 v22",
                      1770.32,
                      561,
                      0.22,
                      290,
                      "Smartwatch"
                    ],
                    [
                      "OnePlus 12 v14",
                      1894.99,
                      688,
                      0.37,
                      204,
                      "Smartphone"
                    ],
                    [
                      "Microsoft Surface Pro 9 v23",
                      988.06,
                      946,
                      0.43,
                      361,
                      "Tablet"
                    ],
                    [
                      "Nikon Z6 II v89",
                      1265.48,
                      607,
                      0.44,
                      204,
                      "Camera"
                    ],
                    [
                      "Sennheiser Momentum 4 v24",
                      417.36,
                      616,
                      0.61,
                      164,
                      "Headphones"
                    ],
                    [
                      "Lenovo ThinkPad X1 v3",
                      1983.22,
                      419,
                      0.94,
                      102,
                      "Laptop"
                    ],
                    [
                      "Canon EOS R6 v29",
                      540.18,
                      249,
                      0.24,
                      169,
                      "Camera"
                    ],
                    [
                      "Sony WH-1000XM5 v92",
                      1891.19,
                      116,
                      0.12,
                      443,
                      "Headphones"
                    ],
                    [
                      "Garmin Venu 2 v62",
                      1334.33,
                      865,
                      0.2,
                      70,
                      "Smartwatch"
                    ],
                    [
                      "Fujifilm X-T4 v42",
                      1254.7,
                      511,
                      0.89,
                      131,
                      "Camera"
                    ],
                    [
                      "Asus ROG Zephyrus G14 v18",
                      1074.11,
                      739,
                      0.65,
                      60,
                      "Laptop"
                    ],
                    [
                      "Sony WH-1000XM5 v64",
                      538.27,
                      577,
                      0.29,
                      412,
                      "Headphones"
                    ],
                    [
                      "Sennheiser Momentum 4 v56",
                      435.4,
                      334,
                      0.82,
                      286,
                      "Headphones"
                    ],
                    [
                      "Apple AirPods Max v62",
                      518.92,
                      417,
                      0.86,
                      14,
                      "Headphones"
                    ],
                    [
                      "Galaxy Watch 6 v37",
                      454.23,
                      931,
                      0.85,
                      475,
                      "Smartwatch"
                    ],
                    [
                      "Panasonic Lumix GH6 v79",
                      1581.21,
                      773,
                      0.92,
                      101,
                      "Camera"
                    ],
                    [
                      "Fitbit Versa 4 v42",
                      765.24,
                      294,
                      0.25,
                      179,
                      "Smartwatch"
                    ],
                    [
                      "Samsung Galaxy S24 v85",
                      209.9,
                      937,
                      0.76,
                      326,
                      "Smartphone"
                    ],
                    [
                      "Google Pixel 8 v65",
                      1941.29,
                      754,
                      0.46,
                      31,
                      "Smartphone"
                    ],
                    [
                      "Fujifilm X-T4 v47",
                      1779.19,
                      370,
                      0.84,
                      414,
                      "Camera"
                    ],
                    [
                      "Galaxy Watch 6 v76",
                      1862.73,
                      185,
                      0.73,
                      335,
                      "Smartwatch"
                    ]
                  ],
                  "hovertemplate": "X=%{x}<br>Y=%{y}<br>Z=%{z}<br>name=%{customdata[0]}<br>price=%{customdata[1]}<br>sales=%{customdata[2]}<br>popularity_score=%{customdata[3]}<br>quantity=%{customdata[4]}<br>category=%{customdata[5]}<br>cluster=%{marker.color}<extra></extra>",
                  "legendgroup": "",
                  "marker": {
                    "color": {
                      "bdata": "TD41Tl5gFjAfOCAeVwEHMB4VLhNIUAlGaEEZM1JKYiRPC1w7UTcR/zk/SEFGZjYZOCAiPC7/ZmlDWSFMR04bLVZhVCAtOw1ZYQpAJh9aCmMgNhMeDCw4O2ldRCZaMQ8JEmhnaFwD/xBWBy9JUmM1Ay8qYQwDGzQjDjMBAkkKUUETMUIqIj84XlgVAz0yPyUNNTERKhMeHSYvSFlSREVfIDxTLEAEKl8fGyE1CxVGI2AfF18ENEYTXFInV2ZgCBADQ0ZQBkdBOzEHA0k9RGQAFSM1K0MXVSUoHFohIipQOCArLSxHLU0J/xsQCF0HPCscN1VJTxJLJkknG0QLQkUWMAohFzFDJFkfA1BbAlgWCgZjGyw5FB0dJ10mEVUYZS9kEjY5LlBLTAFiXEpQBTAxVw42GxQeSWlWMAwKMw1SPjdWJFNgWR0uKTscHlweG2APRUNZGmI5LiNIEgcLBWclU1EHFwdNRTc6Pks6CDZcIGP/OE44GBQ9MkthGGNaECRCPyhgJCtbZSZBBQ5hWChGNQYrIypFBCkuYlw+NlMDGBAySytADidZBCAcCC0WZSZQJg9UElJUAiYZFRgAXQxPB0AvGAMlQw4uBSYNZwdeNFpbOkwdX/9OXmNXKQJdYwAnSiwB/ypAB2lNGxoaTBcuNCcpZA==",
                      "dtype": "i1"
                    },
                    "coloraxis": "coloraxis",
                    "symbol": "circle"
                  },
                  "mode": "markers",
                  "name": "",
                  "scene": "scene",
                  "showlegend": false,
                  "type": "scatter3d",
                  "x": {
                    "bdata": "c3DSvthvv0BFlDo/jiVjQICDukBHQQxB2u6cvzWELUEtFu5AUShfv33YOUFYoDtBZSZ5v9uJBUAcmCFBpwIsQSXzMj9rfak/frdMQN0qtUCCNw1BV/1gQNVzq0Dmei1Bs9Jhv1timz/lhhtBH+Y/QZr5z0AmAQBBKgSFvncItkD4t9dAac+8PyjAAkBebnxAegGFv/lhnEA5ovM+QyEvQDV8fb4B8TxB/w0AQbBUGEF5ri1BhUv4QP7+Tr9kzQBB8HfhQE3uK0EFlY5AFGywvobn7j9g8aVAOBcSQeylAEFc1j9An3pIQV+wDUGYDbc/455Pvz/BWD4HVLQ/z1hlvC99KT849wtAPMhSvYI6PEFW0iG/rcLEQH7uaUAmN0hBlFwDvwnYpUAztD1BpX5HQZYsMUFPLsc/1oHlPkUWH0FJnUBBc2LcQD6K3EDi7vY/uj8vQd6yLz9KSSZA+cOSQEiIxEBgzYg/7w07v359DkHnkQpABjr5QEAOjrvuILNAkAHXQIzRgL+RaWdANBXPvWvInr9iBElBNMoPQO9rMEExF90/RlggQVNKMEHvpQNB9cDFQDREYECikJ5AQmVFQXCoNUFLK0hBCSPRvrYfD0EJsEZBnDhrPnHQWr/uZQFBw331QDOGNEFWhj2/dY8yQfAASj9xXos9zSANvobrIkGSZv5AvCfBQK2TP0DK+0BBkd1gQENlL0Ga4GhA8CuBQG0QjUA8Q0dAvR0sQW1VukCLwrc/fw5AQfddrECalsxAcb9DQb0+BkE2EJW+WZJEQWKt+kCXM1dAbvF7PaVeLUE8NQVBxx/HQJNuP0FFCC1BhK0gP8LdVUBA4o0/s04qQQDNgr8l8AJBoZMvQdu9O0HrBWhAzt0xQSVnB78U8zFB9xSGvv4ya0DZbzJBoF+5u1w8uj//XSlB0Ej/QJl0B0H55/9AgOjZQAH/hz/X42JAdacNv74/RUEC6e9A5XqwQNq+v0BWx0hBb9qNvVEpBUE/AL5AfcMGQQi8M0HeNktBkQPgQDe2JkENbUlBf44BQRmV8z056QRBsbgFQYU5qUCoeB1B/khEQcm1REEg661A+LZHv+YjSEEv4DlBKVv7vYfwO0Gcgz5BTHO+QDan40DLNIpAl2B+vzKmSEBIii5Bsq6Mv9c5VUC9z7NAA6XZQCXeRkGLi2NAw6U5QOqAAUHwvK5Ax85jPyNEvkA/8BC/gQZzPj+B0UDfm6ZAQqBDQd2LaUBwyuFACgUAQaAehb++lhNBYtv7PuZIPkFscy6/Dz2wQJA1L7+RPklB6Ra+QNn5BUGdA0m/dYEvQeTyoD/61UlB1mUiP8W0OD9C+Xy/4ZGJQHhNAEGkN2K/DNItQZ8xsUDPc9tAJD+TQP0KpEB3q9tAoRyYvdwv7j2oYTNBnv5FQbqLaEA8jNE/pxsQQfkXjkAiXI6/cLmPvd/AAEFkHh5Bks6Rv2GGiD/mBCQ/ss4IQRpCg7/TK/y+dE0yQaKCJj4LPhJBNkUeP6hcHb9dacA/TlotQRiEPEGAFjFBFfewQK8v/kCINvY+GUFMQN7gSEGXJIW/r5JHv7B39L4q4Yq/C94Av3rgBUHsanJAhTdJQW3XMkFzRJ1Ak5PwP/Jmg0AxO/lAXsmhP7WBBUHUBmRAESTdQCu1uUDLugtA6SNJQY/GLEEowZg9YQ09QTlgtkB13j9BEAUzQTGnrEAeHo6/NBSYPxRd3UDHJwBBQ038P74DLL9urjJB/PNKQXu7wEBHtx+/BN3dP6a/o78H8DlBvRiAvtXt/EBadp4/BNQBQVSe9kAiTTRBmvPzPtgwnL8fqpO+N2U4QXsSNUHSgg1B0mgOQSCkH0HrWc8+nSZKQYoqjUCvw2JAKU/ZQLkZd78uyia/6/EqQVJDNb8f2QdBjDrAP7iep0A6Df4/YaGmQLqGGkG8fAdALavaQBZAikCaVhNBgd48QWBXKkFMrkI/TxqJv3ZRvD+NGOZAZGCCvyYnuUC56vZAGnhPQFgLIEFVquq+czJMv+ehK0GGLPdADeX7QHQIukCLReY/bcUzQXwSLkGwLAxBNAWbP8yW/UAOCKlAJskrvx+FSkEmoT2/gmxJQb0VmkBYITQ/eybNQCPlNEETHCpBwlYzQbjk+EB4Ig5BGSczQeQ/uT8TefdAWtkQP2PDR0HFIT9B3KU/v8UrGUE7MkRBifkpPy8bAEFfeEVBIAKPvzgZ/0BR5ElAPS5LQdhEPkGEhz5BTnm1QE+hSEFWGztBD8ddQCUhMUH8Bo2/B6fiQNuIaD9jzEK/RCsav24oJUEvGlRA5P8pQTzpob93sV5Aa5nZQJYVLkHtnF5AKa0NQUbpQEEEZwhBdf25PzDAo78olD9BGQWNvyhXP0F6NslAmlFJQYBmMEEGFEhB3cpcQILkLUFAX7JAesuAQLHEBkF9kzRBtF9JQUqXIEGbHYpAqm+UQOxfHUFEHDg/CB0pv0VbW0AqPwVAKCH4Py5xsD9aY4W/XvCJvzFiSEEwULlAH0qgQGKvIEHpiR0/5hFHQWn3MUGXDDO/j592QGbkP0ECGkhBal71QBKdDUGjABc9PDlJQQskkD+zqD1BElYRQSybBkENGdNA35uEP1PPET1++QI/6KEZP7NFL0Fpu2RA8MZ0v2MiSUEJVz9BqYw9QQ==",
                    "dtype": "f4"
                  },
                  "y": {
                    "bdata": "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",
                    "dtype": "f4"
                  },
                  "z": {
                    "bdata": "imTRQPHQA0HzK+tAANL7QNta/kBokOdAjh/RQJT640ChEcxAgYzmQI/6kkCfr2pAXnzoQJ3Z9kB0xfJAUGTlQFth4UB68tFAXpDgQL6B9UBySfpABtf5QLXL9UDm89tArYTnQJf08EBV9fhAFXebQFj8AUGywwJBbhTgQKMXA0G+WNxABubRQAW39UDT8vJA60HoQGNHAUHI1uhA0KTgQDgc30Aj/pVAhsTvQGzW+kAXsaBAMzkEQRcu5UBtqwJBx4DSQHKUqUDFj+pASGLRQMhI5UDtXAJBLuz+QAFY9UD/9OBAs/CjQGsA/UAMhdRAB5PSQOwN0kDS79VAQy3gQKoN40DR1uBAj5TjQIS8kEC1eORADwr2QE5h4UC077pA71viQHrOAUHhhGlApsTEQAbVhkAFp9dAy5jSQN1B8UA/0JlAjFfiQGVl30BzUuVArR2mQD5T4kC1VOFAUc/xQNG0AEFCnO5AZ0PRQAcT/kBPefZA93rtQPqz4EBosvZA0a4CQevw50BZrvNANmvjQCgM0EAgNKZAos/1QOYbiEARh+NAQQHwQCe51EBL9wBBBIsDQVKV4EDBZQFBThesQAtSpkBiJLpAZb7jQJa65UCUs7pAEi3kQD1b2ECG9r5A+YvxQBdpmUBfttRA1p3SQClx00DcieBAn3LjQCAG8UDJRtxATPb/QP5p4ED1IMNAtkvhQBbZm0ChNOBAJjL0QBqK5kCIXfdA4gvjQDnF/ED8yNNAzcqdQO9YA0EaNPNAYJyxQCpX8UCK2t9ABtq5QHu+30DDsvBAm4DRQDAJ5ECSyPFAjrIAQR5ZnEDVlZ9AfeTiQEiN+UAeBedA2VKlQDn+1ECGNgFBg4LSQMiHlEBRhfRAHADdQMKR5EA9SIVA4MPfQKqI/EAJxqhAwITRQPmp0kDOXOZAtyXBQEDp8UDLpsRA49zeQLM250CqkfFA9+rUQD1HvkA5h+hAvJkDQdNgA0Gxy7tAVRPjQDYxAUExPfhAojL1QIangUDvjrxAFbHRQPcd50AGZ8BA63TDQH/l0UBhyABBiZ70QIWaAUFpRvdAEDy2QCEksUDrzvtAqP7SQMQvokDZbsZAN03SQOIwcECho59As5P+QJQE0EBt++5AJmvUQM3C+EA40pdAxUfpQBOp+ECE8ANBQevbQLjwu0AO8vtAdw/hQK80vkAnWP1ALOLsQJ6RA0FfOdBA4obmQLg5A0H0Df1AFz+8QBW1+0Arj9BAdhzmQNdr1kBYCvxAILfSQCDZZ0AvKNJAXbkCQXQ/1ECTk6ZA0jX4QGpe9kCsd+VABX3WQGRT1ECA9cFAKJnpQPqV40BrF9dA71LkQAO5AUFuf9JAkWbjQC0/AEGsJgNBqjXtQMW1AEH4L99AXGnfQIJE40DiAYNAW7ysQFoo/UCO3vJAD0n5QAsz8UC3g9RAhqHeQGSgv0DkvvFAxhTUQEFX5EANO+lAoJjmQP4Y1kAk5NJApvXbQI4t40AYHv1AOJ7nQB2j0kAxI9RA/jbaQCkfw0CotY9AJ+0DQePI2UDtw+hAGhDyQAIUw0AawehAw4PSQJjh1EC6tdVAPD/WQI0QAUFyRf5AK2LBQCpB20CdRwFBZTnjQM7p9UBmZu1Ar+3wQKI98EDGOuFAnIwCQbXMA0EDyOFAlH+8QOEdpEA9EdJApTqdQDQO90D8dZ5Asv/OQB4/AkEhBepAPFXuQLj10kC74ORAFIz0QCD50EAoX4dAZrKoQJWZ+ECMKNNA7i/mQJlez0AofnVAAsvcQAau8UCTu+5Al6UBQVPuxUAx1thAjs3oQDtf0UD4seRAMVR4QPSygEBqQf1A+vH+QGmE8EBNvtJAooG/QJLX60DLK/tAAf3TQN+F6ED8o9FAV+/lQNCT1UCECABBYgvTQFeIAkFJvuNA2RcDQQ6g+UA0aOJAHXbeQNd/5EC3SPxAodBtQBpO5UDgjeFASIPpQKV02EBKw9NAiLnVQLKf+0Alu+lAEIv4QAqa9EAMH+NAM2rXQFQS4EBh1ANBtlXBQA7pA0FZd+JAdzmmQCEdnkAB+udAQUjvQIUN8EDOXwNBKc3kQK+ZwkCCGNVAcOW8QOBc8UAaq+FAemryQOAAgUDmiaZA4qGmQIuHxEBzkOdAz7CDQGGN5UCZpwNBFifoQAubokAa9WZAosPjQHS5+kBJxrRAPjviQFF6AUFRK75Ayl/WQODRwECyR/dAkly+QG9aZ0B5HmhA1bX/QHCKwkCjVsVAx7zyQPzfmkChH+hA5y3XQB6D7UA9M9JAZlnkQGsa6kCiPfhA0hvnQLvqzkB2J/NAZaACQZLXo0D+BvNAQCf/QGZNv0BrSQBBfSbRQPFIz0BhjcRA6e/UQN6RnUCRRvNAvfy7QMHEiEDERblAKlv6QFX54UBx5ANBQLHeQIOK80AjDoFAk3a8QOPO80Cnp+lAKffyQGQB9kCFXudAq4vPQBn4+UCp6fVAXT3mQBWa1UAPs9ZADk3pQKFSpEDnFARBpTsBQX/D7kBqbedAb++nQFza0EBp2tVAH1vjQD/rv0BgZ7pAI88EQW88+kDlruFA+UymQGD25UCcJW1A8/3+QEji9kDzLANBPOHuQGuY5EAWB+hAbdbSQMAe4UAYOPFAt3TVQAnNu0ADtZ5ArsyBQA==",
                    "dtype": "f4"
                  }
                }
              ],
              "layout": {
                "coloraxis": {
                  "colorbar": {
                    "title": {
                      "text": "cluster"
                    }
                  },
                  "colorscale": [
                    [
                      0,
                      "#0d0887"
                    ],
                    [
                      0.1111111111111111,
                      "#46039f"
                    ],
                    [
                      0.2222222222222222,
                      "#7201a8"
                    ],
                    [
                      0.3333333333333333,
                      "#9c179e"
                    ],
                    [
                      0.4444444444444444,
                      "#bd3786"
                    ],
                    [
                      0.5555555555555556,
                      "#d8576b"
                    ],
                    [
                      0.6666666666666666,
                      "#ed7953"
                    ],
                    [
                      0.7777777777777778,
                      "#fb9f3a"
                    ],
                    [
                      0.8888888888888888,
                      "#fdca26"
                    ],
                    [
                      1,
                      "#f0f921"
                    ]
                  ]
                },
                "legend": {
                  "tracegroupgap": 0
                },
                "margin": {
                  "t": 60
                },
                "scene": {
                  "domain": {
                    "x": [
                      0,
                      1
                    ],
                    "y": [
                      0,
                      1
                    ]
                  },
                  "xaxis": {
                    "title": {
                      "text": "X"
                    }
                  },
                  "yaxis": {
                    "title": {
                      "text": "Y"
                    }
                  },
                  "zaxis": {
                    "title": {
                      "text": "Z"
                    }
                  }
                },
                "template": {
                  "data": {
                    "bar": [
                      {
                        "error_x": {
                          "color": "#2a3f5f"
                        },
                        "error_y": {
                          "color": "#2a3f5f"
                        },
                        "marker": {
                          "line": {
                            "color": "#E5ECF6",
                            "width": 0.5
                          },
                          "pattern": {
                            "fillmode": "overlay",
                            "size": 10,
                            "solidity": 0.2
                          }
                        },
                        "type": "bar"
                      }
                    ],
                    "barpolar": [
                      {
                        "marker": {
                          "line": {
                            "color": "#E5ECF6",
                            "width": 0.5
                          },
                          "pattern": {
                            "fillmode": "overlay",
                            "size": 10,
                            "solidity": 0.2
                          }
                        },
                        "type": "barpolar"
                      }
                    ],
                    "carpet": [
                      {
                        "aaxis": {
                          "endlinecolor": "#2a3f5f",
                          "gridcolor": "white",
                          "linecolor": "white",
                          "minorgridcolor": "white",
                          "startlinecolor": "#2a3f5f"
                        },
                        "baxis": {
                          "endlinecolor": "#2a3f5f",
                          "gridcolor": "white",
                          "linecolor": "white",
                          "minorgridcolor": "white",
                          "startlinecolor": "#2a3f5f"
                        },
                        "type": "carpet"
                      }
                    ],
                    "choropleth": [
                      {
                        "colorbar": {
                          "outlinewidth": 0,
                          "ticks": ""
                        },
                        "type": "choropleth"
                      }
                    ],
                    "contour": [
                      {
                        "colorbar": {
                          "outlinewidth": 0,
                          "ticks": ""
                        },
                        "colorscale": [
                          [
                            0,
                            "#0d0887"
                          ],
                          [
                            0.1111111111111111,
                            "#46039f"
                          ],
                          [
                            0.2222222222222222,
                            "#7201a8"
                          ],
                          [
                            0.3333333333333333,
                            "#9c179e"
                          ],
                          [
                            0.4444444444444444,
                            "#bd3786"
                          ],
                          [
                            0.5555555555555556,
                            "#d8576b"
                          ],
                          [
                            0.6666666666666666,
                            "#ed7953"
                          ],
                          [
                            0.7777777777777778,
                            "#fb9f3a"
                          ],
                          [
                            0.8888888888888888,
                            "#fdca26"
                          ],
                          [
                            1,
                            "#f0f921"
                          ]
                        ],
                        "type": "contour"
                      }
                    ],
                    "contourcarpet": [
                      {
                        "colorbar": {
                          "outlinewidth": 0,
                          "ticks": ""
                        },
                        "type": "contourcarpet"
                      }
                    ],
                    "heatmap": [
                      {
                        "colorbar": {
                          "outlinewidth": 0,
                          "ticks": ""
                        },
                        "colorscale": [
                          [
                            0,
                            "#0d0887"
                          ],
                          [
                            0.1111111111111111,
                            "#46039f"
                          ],
                          [
                            0.2222222222222222,
                            "#7201a8"
                          ],
                          [
                            0.3333333333333333,
                            "#9c179e"
                          ],
                          [
                            0.4444444444444444,
                            "#bd3786"
                          ],
                          [
                            0.5555555555555556,
                            "#d8576b"
                          ],
                          [
                            0.6666666666666666,
                            "#ed7953"
                          ],
                          [
                            0.7777777777777778,
                            "#fb9f3a"
                          ],
                          [
                            0.8888888888888888,
                            "#fdca26"
                          ],
                          [
                            1,
                            "#f0f921"
                          ]
                        ],
                        "type": "heatmap"
                      }
                    ],
                    "histogram": [
                      {
                        "marker": {
                          "pattern": {
                            "fillmode": "overlay",
                            "size": 10,
                            "solidity": 0.2
                          }
                        },
                        "type": "histogram"
                      }
                    ],
                    "histogram2d": [
                      {
                        "colorbar": {
                          "outlinewidth": 0,
                          "ticks": ""
                        },
                        "colorscale": [
                          [
                            0,
                            "#0d0887"
                          ],
                          [
                            0.1111111111111111,
                            "#46039f"
                          ],
                          [
                            0.2222222222222222,
                            "#7201a8"
                          ],
                          [
                            0.3333333333333333,
                            "#9c179e"
                          ],
                          [
                            0.4444444444444444,
                            "#bd3786"
                          ],
                          [
                            0.5555555555555556,
                            "#d8576b"
                          ],
                          [
                            0.6666666666666666,
                            "#ed7953"
                          ],
                          [
                            0.7777777777777778,
                            "#fb9f3a"
                          ],
                          [
                            0.8888888888888888,
                            "#fdca26"
                          ],
                          [
                            1,
                            "#f0f921"
                          ]
                        ],
                        "type": "histogram2d"
                      }
                    ],
                    "histogram2dcontour": [
                      {
                        "colorbar": {
                          "outlinewidth": 0,
                          "ticks": ""
                        },
                        "colorscale": [
                          [
                            0,
                            "#0d0887"
                          ],
                          [
                            0.1111111111111111,
                            "#46039f"
                          ],
                          [
                            0.2222222222222222,
                            "#7201a8"
                          ],
                          [
                            0.3333333333333333,
                            "#9c179e"
                          ],
                          [
                            0.4444444444444444,
                            "#bd3786"
                          ],
                          [
                            0.5555555555555556,
                            "#d8576b"
                          ],
                          [
                            0.6666666666666666,
                            "#ed7953"
                          ],
                          [
                            0.7777777777777778,
                            "#fb9f3a"
                          ],
                          [
                            0.8888888888888888,
                            "#fdca26"
                          ],
                          [
                            1,
                            "#f0f921"
                          ]
                        ],
                        "type": "histogram2dcontour"
                      }
                    ],
                    "mesh3d": [
                      {
                        "colorbar": {
                          "outlinewidth": 0,
                          "ticks": ""
                        },
                        "type": "mesh3d"
                      }
                    ],
                    "parcoords": [
                      {
                        "line": {
                          "colorbar": {
                            "outlinewidth": 0,
                            "ticks": ""
                          }
                        },
                        "type": "parcoords"
                      }
                    ],
                    "pie": [
                      {
                        "automargin": true,
                        "type": "pie"
                      }
                    ],
                    "scatter": [
                      {
                        "fillpattern": {
                          "fillmode": "overlay",
                          "size": 10,
                          "solidity": 0.2
                        },
                        "type": "scatter"
                      }
                    ],
                    "scatter3d": [
                      {
                        "line": {
                          "colorbar": {
                            "outlinewidth": 0,
                            "ticks": ""
                          }
                        },
                        "marker": {
                          "colorbar": {
                            "outlinewidth": 0,
                            "ticks": ""
                          }
                        },
                        "type": "scatter3d"
                      }
                    ],
                    "scattercarpet": [
                      {
                        "marker": {
                          "colorbar": {
                            "outlinewidth": 0,
                            "ticks": ""
                          }
                        },
                        "type": "scattercarpet"
                      }
                    ],
                    "scattergeo": [
                      {
                        "marker": {
                          "colorbar": {
                            "outlinewidth": 0,
                            "ticks": ""
                          }
                        },
                        "type": "scattergeo"
                      }
                    ],
                    "scattergl": [
                      {
                        "marker": {
                          "colorbar": {
                            "outlinewidth": 0,
                            "ticks": ""
                          }
                        },
                        "type": "scattergl"
                      }
                    ],
                    "scattermap": [
                      {
                        "marker": {
                          "colorbar": {
                            "outlinewidth": 0,
                            "ticks": ""
                          }
                        },
                        "type": "scattermap"
                      }
                    ],
                    "scattermapbox": [
                      {
                        "marker": {
                          "colorbar": {
                            "outlinewidth": 0,
                            "ticks": ""
                          }
                        },
                        "type": "scattermapbox"
                      }
                    ],
                    "scatterpolar": [
                      {
                        "marker": {
                          "colorbar": {
                            "outlinewidth": 0,
                            "ticks": ""
                          }
                        },
                        "type": "scatterpolar"
                      }
                    ],
                    "scatterpolargl": [
                      {
                        "marker": {
                          "colorbar": {
                            "outlinewidth": 0,
                            "ticks": ""
                          }
                        },
                        "type": "scatterpolargl"
                      }
                    ],
                    "scatterternary": [
                      {
                        "marker": {
                          "colorbar": {
                            "outlinewidth": 0,
                            "ticks": ""
                          }
                        },
                        "type": "scatterternary"
                      }
                    ],
                    "surface": [
                      {
                        "colorbar": {
                          "outlinewidth": 0,
                          "ticks": ""
                        },
                        "colorscale": [
                          [
                            0,
                            "#0d0887"
                          ],
                          [
                            0.1111111111111111,
                            "#46039f"
                          ],
                          [
                            0.2222222222222222,
                            "#7201a8"
                          ],
                          [
                            0.3333333333333333,
                            "#9c179e"
                          ],
                          [
                            0.4444444444444444,
                            "#bd3786"
                          ],
                          [
                            0.5555555555555556,
                            "#d8576b"
                          ],
                          [
                            0.6666666666666666,
                            "#ed7953"
                          ],
                          [
                            0.7777777777777778,
                            "#fb9f3a"
                          ],
                          [
                            0.8888888888888888,
                            "#fdca26"
                          ],
                          [
                            1,
                            "#f0f921"
                          ]
                        ],
                        "type": "surface"
                      }
                    ],
                    "table": [
                      {
                        "cells": {
                          "fill": {
                            "color": "#EBF0F8"
                          },
                          "line": {
                            "color": "white"
                          }
                        },
                        "header": {
                          "fill": {
                            "color": "#C8D4E3"
                          },
                          "line": {
                            "color": "white"
                          }
                        },
                        "type": "table"
                      }
                    ]
                  },
                  "layout": {
                    "annotationdefaults": {
                      "arrowcolor": "#2a3f5f",
                      "arrowhead": 0,
                      "arrowwidth": 1
                    },
                    "autotypenumbers": "strict",
                    "coloraxis": {
                      "colorbar": {
                        "outlinewidth": 0,
                        "ticks": ""
                      }
                    },
                    "colorscale": {
                      "diverging": [
                        [
                          0,
                          "#8e0152"
                        ],
                        [
                          0.1,
                          "#c51b7d"
                        ],
                        [
                          0.2,
                          "#de77ae"
                        ],
                        [
                          0.3,
                          "#f1b6da"
                        ],
                        [
                          0.4,
                          "#fde0ef"
                        ],
                        [
                          0.5,
                          "#f7f7f7"
                        ],
                        [
                          0.6,
                          "#e6f5d0"
                        ],
                        [
                          0.7,
                          "#b8e186"
                        ],
                        [
                          0.8,
                          "#7fbc41"
                        ],
                        [
                          0.9,
                          "#4d9221"
                        ],
                        [
                          1,
                          "#276419"
                        ]
                      ],
                      "sequential": [
                        [
                          0,
                          "#0d0887"
                        ],
                        [
                          0.1111111111111111,
                          "#46039f"
                        ],
                        [
                          0.2222222222222222,
                          "#7201a8"
                        ],
                        [
                          0.3333333333333333,
                          "#9c179e"
                        ],
                        [
                          0.4444444444444444,
                          "#bd3786"
                        ],
                        [
                          0.5555555555555556,
                          "#d8576b"
                        ],
                        [
                          0.6666666666666666,
                          "#ed7953"
                        ],
                        [
                          0.7777777777777778,
                          "#fb9f3a"
                        ],
                        [
                          0.8888888888888888,
                          "#fdca26"
                        ],
                        [
                          1,
                          "#f0f921"
                        ]
                      ],
                      "sequentialminus": [
                        [
                          0,
                          "#0d0887"
                        ],
                        [
                          0.1111111111111111,
                          "#46039f"
                        ],
                        [
                          0.2222222222222222,
                          "#7201a8"
                        ],
                        [
                          0.3333333333333333,
                          "#9c179e"
                        ],
                        [
                          0.4444444444444444,
                          "#bd3786"
                        ],
                        [
                          0.5555555555555556,
                          "#d8576b"
                        ],
                        [
                          0.6666666666666666,
                          "#ed7953"
                        ],
                        [
                          0.7777777777777778,
                          "#fb9f3a"
                        ],
                        [
                          0.8888888888888888,
                          "#fdca26"
                        ],
                        [
                          1,
                          "#f0f921"
                        ]
                      ]
                    },
                    "colorway": [
                      "#636efa",
                      "#EF553B",
                      "#00cc96",
                      "#ab63fa",
                      "#FFA15A",
                      "#19d3f3",
                      "#FF6692",
                      "#B6E880",
                      "#FF97FF",
                      "#FECB52"
                    ],
                    "font": {
                      "color": "#2a3f5f"
                    },
                    "geo": {
                      "bgcolor": "white",
                      "lakecolor": "white",
                      "landcolor": "#E5ECF6",
                      "showlakes": true,
                      "showland": true,
                      "subunitcolor": "white"
                    },
                    "hoverlabel": {
                      "align": "left"
                    },
                    "hovermode": "closest",
                    "mapbox": {
                      "style": "light"
                    },
                    "paper_bgcolor": "white",
                    "plot_bgcolor": "#E5ECF6",
                    "polar": {
                      "angularaxis": {
                        "gridcolor": "white",
                        "linecolor": "white",
                        "ticks": ""
                      },
                      "bgcolor": "#E5ECF6",
                      "radialaxis": {
                        "gridcolor": "white",
                        "linecolor": "white",
                        "ticks": ""
                      }
                    },
                    "scene": {
                      "xaxis": {
                        "backgroundcolor": "#E5ECF6",
                        "gridcolor": "white",
                        "gridwidth": 2,
                        "linecolor": "white",
                        "showbackground": true,
                        "ticks": "",
                        "zerolinecolor": "white"
                      },
                      "yaxis": {
                        "backgroundcolor": "#E5ECF6",
                        "gridcolor": "white",
                        "gridwidth": 2,
                        "linecolor": "white",
                        "showbackground": true,
                        "ticks": "",
                        "zerolinecolor": "white"
                      },
                      "zaxis": {
                        "backgroundcolor": "#E5ECF6",
                        "gridcolor": "white",
                        "gridwidth": 2,
                        "linecolor": "white",
                        "showbackground": true,
                        "ticks": "",
                        "zerolinecolor": "white"
                      }
                    },
                    "shapedefaults": {
                      "line": {
                        "color": "#2a3f5f"
                      }
                    },
                    "ternary": {
                      "aaxis": {
                        "gridcolor": "white",
                        "linecolor": "white",
                        "ticks": ""
                      },
                      "baxis": {
                        "gridcolor": "white",
                        "linecolor": "white",
                        "ticks": ""
                      },
                      "bgcolor": "#E5ECF6",
                      "caxis": {
                        "gridcolor": "white",
                        "linecolor": "white",
                        "ticks": ""
                      }
                    },
                    "title": {
                      "x": 0.05
                    },
                    "xaxis": {
                      "automargin": true,
                      "gridcolor": "white",
                      "linecolor": "white",
                      "ticks": "",
                      "title": {
                        "standoff": 15
                      },
                      "zerolinecolor": "white",
                      "zerolinewidth": 2
                    },
                    "yaxis": {
                      "automargin": true,
                      "gridcolor": "white",
                      "linecolor": "white",
                      "ticks": "",
                      "title": {
                        "standoff": 15
                      },
                      "zerolinecolor": "white",
                      "zerolinewidth": 2
                    }
                  }
                }
              }
            }
          },
          "metadata": {},
          "output_type": "display_data"
        }
      ],
      "source": [
        "import pandas as pd\n",
        "import umap\n",
        "import plotly.express as px\n",
        "\n",
        "df = pd.read_csv(\"dataset_dbms.csv\")\n",
        "\n",
        "features = df[['price', 'sales', 'popularity_score', 'category_encoded']]\n",
        "\n",
        "umap_3d = umap.UMAP(n_components=3, random_state=42)\n",
        "embedding = umap_3d.fit_transform(features)\n",
        "\n",
        "df['X'] = embedding[:, 0]\n",
        "df['Y'] = embedding[:, 1]\n",
        "df['Z'] = embedding[:, 2]\n",
        "\n",
        "fig = px.scatter_3d(\n",
        "    df,\n",
        "    x='X',\n",
        "    y='Y',\n",
        "    z='Z',\n",
        "    color='cluster',\n",
        "    hover_data=['name','price', 'sales', 'popularity_score','quantity', 'category']\n",
        ")\n",
        "\n",
        "fig.show()"
      ]
    },
    {
      "cell_type": "code",
      "execution_count": 3,
      "metadata": {
        "colab": {
          "base_uri": "https://localhost:8080/",
          "height": 206
        },
        "id": "cHXbBTAvOJPX",
        "outputId": "24f3974f-296c-4f50-b466-4737cbdca807"
      },
      "outputs": [
        {
          "data": {
            "application/vnd.google.colaboratory.intrinsic+json": {
              "summary": "{\n  \"name\": \"df\",\n  \"rows\": 5,\n  \"fields\": [\n    {\n      \"column\": \"product_id\",\n      \"properties\": {\n        \"dtype\": \"number\",\n        \"std\": 158,\n        \"min\": 76,\n        \"max\": 483,\n        \"num_unique_values\": 5,\n        \"samples\": [\n          356,\n          76,\n          483\n        ],\n        \"semantic_type\": \"\",\n        \"description\": \"\"\n      }\n    },\n    {\n      \"column\": \"name\",\n      \"properties\": {\n        \"dtype\": \"string\",\n        \"num_unique_values\": 5,\n        \"samples\": [\n          \"Bose QuietComfort 45 v26\",\n          \"Canon EOS R6 v66\",\n          \"Nikon Z6 II v89\"\n        ],\n        \"semantic_type\": \"\",\n        \"description\": \"\"\n      }\n    },\n    {\n      \"column\": \"category\",\n      \"properties\": {\n        \"dtype\": \"string\",\n        \"num_unique_values\": 4,\n        \"samples\": [\n          \"Headphones\",\n          \"Smartwatch\",\n          \"Laptop\"\n        ],\n        \"semantic_type\": \"\",\n        \"description\": \"\"\n      }\n    },\n    {\n      \"column\": \"quantity\",\n      \"properties\": {\n        \"dtype\": \"number\",\n        \"std\": 142,\n        \"min\": 91,\n        \"max\": 422,\n        \"num_unique_values\": 5,\n        \"samples\": [\n          206,\n          422,\n          204\n        ],\n        \"semantic_type\": \"\",\n        \"description\": \"\"\n      }\n    },\n    {\n      \"column\": \"price\",\n      \"properties\": {\n        \"dtype\": \"number\",\n        \"std\": 320.9489472174663,\n        \"min\": 1131.18,\n        \"max\": 1902.06,\n        \"num_unique_values\": 5,\n        \"samples\": [\n          1502.26,\n          1744.46,\n          1265.48\n        ],\n        \"semantic_type\": \"\",\n        \"description\": \"\"\n      }\n    },\n    {\n      \"column\": \"sales\",\n      \"properties\": {\n        \"dtype\": \"number\",\n        \"std\": 259,\n        \"min\": 209,\n        \"max\": 865,\n        \"num_unique_values\": 5,\n        \"samples\": [\n          744,\n          865,\n          607\n        ],\n        \"semantic_type\": \"\",\n        \"description\": \"\"\n      }\n    },\n    {\n      \"column\": \"popularity_score\",\n      \"properties\": {\n        \"dtype\": \"number\",\n        \"std\": 0.371685350800916,\n        \"min\": 0.03,\n        \"max\": 0.99,\n        \"num_unique_values\": 5,\n        \"samples\": [\n          0.99,\n          0.03,\n          0.44\n        ],\n        \"semantic_type\": \"\",\n        \"description\": \"\"\n      }\n    },\n    {\n      \"column\": \"category_encoded\",\n      \"properties\": {\n        \"dtype\": \"number\",\n        \"std\": 1,\n        \"min\": 0,\n        \"max\": 4,\n        \"num_unique_values\": 4,\n        \"samples\": [\n          1,\n          4,\n          2\n        ],\n        \"semantic_type\": \"\",\n        \"description\": \"\"\n      }\n    },\n    {\n      \"column\": \"cluster\",\n      \"properties\": {\n        \"dtype\": \"number\",\n        \"std\": 11,\n        \"min\": 23,\n        \"max\": 48,\n        \"num_unique_values\": 4,\n        \"samples\": [\n          44,\n          38,\n          23\n        ],\n        \"semantic_type\": \"\",\n        \"description\": \"\"\n      }\n    },\n    {\n      \"column\": \"supplier\",\n      \"properties\": {\n        \"dtype\": \"string\",\n        \"num_unique_values\": 4,\n        \"samples\": [\n          \"Sennheiser\",\n          \"Samsung\",\n          \"Asus\"\n        ],\n        \"semantic_type\": \"\",\n        \"description\": \"\"\n      }\n    }\n  ]\n}",
              "type": "dataframe"
            },
            "text/html": [
              "\n",
              "  <div id=\"df-d051d72a-a7cb-4ae5-a1d3-7a1686a2a8e2\" class=\"colab-df-container\">\n",
              "    <div>\n",
              "<style scoped>\n",
              "    .dataframe tbody tr th:only-of-type {\n",
              "        vertical-align: middle;\n",
              "    }\n",
              "\n",
              "    .dataframe tbody tr th {\n",
              "        vertical-align: top;\n",
              "    }\n",
              "\n",
              "    .dataframe thead th {\n",
              "        text-align: right;\n",
              "    }\n",
              "</style>\n",
              "<table border=\"1\" class=\"dataframe\">\n",
              "  <thead>\n",
              "    <tr style=\"text-align: right;\">\n",
              "      <th></th>\n",
              "      <th>product_id</th>\n",
              "      <th>name</th>\n",
              "      <th>category</th>\n",
              "      <th>quantity</th>\n",
              "      <th>price</th>\n",
              "      <th>sales</th>\n",
              "      <th>popularity_score</th>\n",
              "      <th>category_encoded</th>\n",
              "      <th>cluster</th>\n",
              "      <th>supplier</th>\n",
              "    </tr>\n",
              "  </thead>\n",
              "  <tbody>\n",
              "    <tr>\n",
              "      <th>177</th>\n",
              "      <td>178</td>\n",
              "      <td>Asus ROG Zephyrus G14 v8</td>\n",
              "      <td>Laptop</td>\n",
              "      <td>402</td>\n",
              "      <td>1131.18</td>\n",
              "      <td>209</td>\n",
              "      <td>0.68</td>\n",
              "      <td>2</td>\n",
              "      <td>23</td>\n",
              "      <td>Asus</td>\n",
              "    </tr>\n",
              "    <tr>\n",
              "      <th>354</th>\n",
              "      <td>356</td>\n",
              "      <td>Bose QuietComfort 45 v26</td>\n",
              "      <td>Headphones</td>\n",
              "      <td>206</td>\n",
              "      <td>1502.26</td>\n",
              "      <td>744</td>\n",
              "      <td>0.99</td>\n",
              "      <td>1</td>\n",
              "      <td>23</td>\n",
              "      <td>Sennheiser</td>\n",
              "    </tr>\n",
              "    <tr>\n",
              "      <th>481</th>\n",
              "      <td>483</td>\n",
              "      <td>Nikon Z6 II v89</td>\n",
              "      <td>Camera</td>\n",
              "      <td>204</td>\n",
              "      <td>1265.48</td>\n",
              "      <td>607</td>\n",
              "      <td>0.44</td>\n",
              "      <td>0</td>\n",
              "      <td>44</td>\n",
              "      <td>Fujifilm</td>\n",
              "    </tr>\n",
              "    <tr>\n",
              "      <th>312</th>\n",
              "      <td>314</td>\n",
              "      <td>Galaxy Watch 6 v35</td>\n",
              "      <td>Smartwatch</td>\n",
              "      <td>91</td>\n",
              "      <td>1902.06</td>\n",
              "      <td>788</td>\n",
              "      <td>0.81</td>\n",
              "      <td>4</td>\n",
              "      <td>48</td>\n",
              "      <td>Samsung</td>\n",
              "    </tr>\n",
              "    <tr>\n",
              "      <th>75</th>\n",
              "      <td>76</td>\n",
              "      <td>Canon EOS R6 v66</td>\n",
              "      <td>Camera</td>\n",
              "      <td>422</td>\n",
              "      <td>1744.46</td>\n",
              "      <td>865</td>\n",
              "      <td>0.03</td>\n",
              "      <td>0</td>\n",
              "      <td>38</td>\n",
              "      <td>Fujifilm</td>\n",
              "    </tr>\n",
              "  </tbody>\n",
              "</table>\n",
              "</div>\n",
              "    <div class=\"colab-df-buttons\">\n",
              "\n",
              "  <div class=\"colab-df-container\">\n",
              "    <button class=\"colab-df-convert\" onclick=\"convertToInteractive('df-d051d72a-a7cb-4ae5-a1d3-7a1686a2a8e2')\"\n",
              "            title=\"Convert this dataframe to an interactive table.\"\n",
              "            style=\"display:none;\">\n",
              "\n",
              "  <svg xmlns=\"http://www.w3.org/2000/svg\" height=\"24px\" viewBox=\"0 -960 960 960\">\n",
              "    <path d=\"M120-120v-720h720v720H120Zm60-500h600v-160H180v160Zm220 220h160v-160H400v160Zm0 220h160v-160H400v160ZM180-400h160v-160H180v160Zm440 0h160v-160H620v160ZM180-180h160v-160H180v160Zm440 0h160v-160H620v160Z\"/>\n",
              "  </svg>\n",
              "    </button>\n",
              "\n",
              "  <style>\n",
              "    .colab-df-container {\n",
              "      display:flex;\n",
              "      gap: 12px;\n",
              "    }\n",
              "\n",
              "    .colab-df-convert {\n",
              "      background-color: #E8F0FE;\n",
              "      border: none;\n",
              "      border-radius: 50%;\n",
              "      cursor: pointer;\n",
              "      display: none;\n",
              "      fill: #1967D2;\n",
              "      height: 32px;\n",
              "      padding: 0 0 0 0;\n",
              "      width: 32px;\n",
              "    }\n",
              "\n",
              "    .colab-df-convert:hover {\n",
              "      background-color: #E2EBFA;\n",
              "      box-shadow: 0px 1px 2px rgba(60, 64, 67, 0.3), 0px 1px 3px 1px rgba(60, 64, 67, 0.15);\n",
              "      fill: #174EA6;\n",
              "    }\n",
              "\n",
              "    .colab-df-buttons div {\n",
              "      margin-bottom: 4px;\n",
              "    }\n",
              "\n",
              "    [theme=dark] .colab-df-convert {\n",
              "      background-color: #3B4455;\n",
              "      fill: #D2E3FC;\n",
              "    }\n",
              "\n",
              "    [theme=dark] .colab-df-convert:hover {\n",
              "      background-color: #434B5C;\n",
              "      box-shadow: 0px 1px 3px 1px rgba(0, 0, 0, 0.15);\n",
              "      filter: drop-shadow(0px 1px 2px rgba(0, 0, 0, 0.3));\n",
              "      fill: #FFFFFF;\n",
              "    }\n",
              "  </style>\n",
              "\n",
              "    <script>\n",
              "      const buttonEl =\n",
              "        document.querySelector('#df-d051d72a-a7cb-4ae5-a1d3-7a1686a2a8e2 button.colab-df-convert');\n",
              "      buttonEl.style.display =\n",
              "        google.colab.kernel.accessAllowed ? 'block' : 'none';\n",
              "\n",
              "      async function convertToInteractive(key) {\n",
              "        const element = document.querySelector('#df-d051d72a-a7cb-4ae5-a1d3-7a1686a2a8e2');\n",
              "        const dataTable =\n",
              "          await google.colab.kernel.invokeFunction('convertToInteractive',\n",
              "                                                    [key], {});\n",
              "        if (!dataTable) return;\n",
              "\n",
              "        const docLinkHtml = 'Like what you see? Visit the ' +\n",
              "          '<a target=\"_blank\" href=https://colab.research.google.com/notebooks/data_table.ipynb>data table notebook</a>'\n",
              "          + ' to learn more about interactive tables.';\n",
              "        element.innerHTML = '';\n",
              "        dataTable['output_type'] = 'display_data';\n",
              "        await google.colab.output.renderOutput(dataTable, element);\n",
              "        const docLink = document.createElement('div');\n",
              "        docLink.innerHTML = docLinkHtml;\n",
              "        element.appendChild(docLink);\n",
              "      }\n",
              "    </script>\n",
              "  </div>\n",
              "\n",
              "\n",
              "<div id=\"df-67e7b544-3b96-4629-8675-20758d8a3bc0\">\n",
              "  <button class=\"colab-df-quickchart\" onclick=\"quickchart('df-67e7b544-3b96-4629-8675-20758d8a3bc0')\"\n",
              "            title=\"Suggest charts\"\n",
              "            style=\"display:none;\">\n",
              "\n",
              "<svg xmlns=\"http://www.w3.org/2000/svg\" height=\"24px\"viewBox=\"0 0 24 24\"\n",
              "     width=\"24px\">\n",
              "    <g>\n",
              "        <path d=\"M19 3H5c-1.1 0-2 .9-2 2v14c0 1.1.9 2 2 2h14c1.1 0 2-.9 2-2V5c0-1.1-.9-2-2-2zM9 17H7v-7h2v7zm4 0h-2V7h2v10zm4 0h-2v-4h2v4z\"/>\n",
              "    </g>\n",
              "</svg>\n",
              "  </button>\n",
              "\n",
              "<style>\n",
              "  .colab-df-quickchart {\n",
              "      --bg-color: #E8F0FE;\n",
              "      --fill-color: #1967D2;\n",
              "      --hover-bg-color: #E2EBFA;\n",
              "      --hover-fill-color: #174EA6;\n",
              "      --disabled-fill-color: #AAA;\n",
              "      --disabled-bg-color: #DDD;\n",
              "  }\n",
              "\n",
              "  [theme=dark] .colab-df-quickchart {\n",
              "      --bg-color: #3B4455;\n",
              "      --fill-color: #D2E3FC;\n",
              "      --hover-bg-color: #434B5C;\n",
              "      --hover-fill-color: #FFFFFF;\n",
              "      --disabled-bg-color: #3B4455;\n",
              "      --disabled-fill-color: #666;\n",
              "  }\n",
              "\n",
              "  .colab-df-quickchart {\n",
              "    background-color: var(--bg-color);\n",
              "    border: none;\n",
              "    border-radius: 50%;\n",
              "    cursor: pointer;\n",
              "    display: none;\n",
              "    fill: var(--fill-color);\n",
              "    height: 32px;\n",
              "    padding: 0;\n",
              "    width: 32px;\n",
              "  }\n",
              "\n",
              "  .colab-df-quickchart:hover {\n",
              "    background-color: var(--hover-bg-color);\n",
              "    box-shadow: 0 1px 2px rgba(60, 64, 67, 0.3), 0 1px 3px 1px rgba(60, 64, 67, 0.15);\n",
              "    fill: var(--button-hover-fill-color);\n",
              "  }\n",
              "\n",
              "  .colab-df-quickchart-complete:disabled,\n",
              "  .colab-df-quickchart-complete:disabled:hover {\n",
              "    background-color: var(--disabled-bg-color);\n",
              "    fill: var(--disabled-fill-color);\n",
              "    box-shadow: none;\n",
              "  }\n",
              "\n",
              "  .colab-df-spinner {\n",
              "    border: 2px solid var(--fill-color);\n",
              "    border-color: transparent;\n",
              "    border-bottom-color: var(--fill-color);\n",
              "    animation:\n",
              "      spin 1s steps(1) infinite;\n",
              "  }\n",
              "\n",
              "  @keyframes spin {\n",
              "    0% {\n",
              "      border-color: transparent;\n",
              "      border-bottom-color: var(--fill-color);\n",
              "      border-left-color: var(--fill-color);\n",
              "    }\n",
              "    20% {\n",
              "      border-color: transparent;\n",
              "      border-left-color: var(--fill-color);\n",
              "      border-top-color: var(--fill-color);\n",
              "    }\n",
              "    30% {\n",
              "      border-color: transparent;\n",
              "      border-left-color: var(--fill-color);\n",
              "      border-top-color: var(--fill-color);\n",
              "      border-right-color: var(--fill-color);\n",
              "    }\n",
              "    40% {\n",
              "      border-color: transparent;\n",
              "      border-right-color: var(--fill-color);\n",
              "      border-top-color: var(--fill-color);\n",
              "    }\n",
              "    60% {\n",
              "      border-color: transparent;\n",
              "      border-right-color: var(--fill-color);\n",
              "    }\n",
              "    80% {\n",
              "      border-color: transparent;\n",
              "      border-right-color: var(--fill-color);\n",
              "      border-bottom-color: var(--fill-color);\n",
              "    }\n",
              "    90% {\n",
              "      border-color: transparent;\n",
              "      border-bottom-color: var(--fill-color);\n",
              "    }\n",
              "  }\n",
              "</style>\n",
              "\n",
              "  <script>\n",
              "    async function quickchart(key) {\n",
              "      const quickchartButtonEl =\n",
              "        document.querySelector('#' + key + ' button');\n",
              "      quickchartButtonEl.disabled = true;  // To prevent multiple clicks.\n",
              "      quickchartButtonEl.classList.add('colab-df-spinner');\n",
              "      try {\n",
              "        const charts = await google.colab.kernel.invokeFunction(\n",
              "            'suggestCharts', [key], {});\n",
              "      } catch (error) {\n",
              "        console.error('Error during call to suggestCharts:', error);\n",
              "      }\n",
              "      quickchartButtonEl.classList.remove('colab-df-spinner');\n",
              "      quickchartButtonEl.classList.add('colab-df-quickchart-complete');\n",
              "    }\n",
              "    (() => {\n",
              "      let quickchartButtonEl =\n",
              "        document.querySelector('#df-67e7b544-3b96-4629-8675-20758d8a3bc0 button');\n",
              "      quickchartButtonEl.style.display =\n",
              "        google.colab.kernel.accessAllowed ? 'block' : 'none';\n",
              "    })();\n",
              "  </script>\n",
              "</div>\n",
              "\n",
              "    </div>\n",
              "  </div>\n"
            ],
            "text/plain": [
              "     product_id                      name    category  quantity    price  \\\n",
              "177         178  Asus ROG Zephyrus G14 v8      Laptop       402  1131.18   \n",
              "354         356  Bose QuietComfort 45 v26  Headphones       206  1502.26   \n",
              "481         483           Nikon Z6 II v89      Camera       204  1265.48   \n",
              "312         314        Galaxy Watch 6 v35  Smartwatch        91  1902.06   \n",
              "75           76          Canon EOS R6 v66      Camera       422  1744.46   \n",
              "\n",
              "     sales  popularity_score  category_encoded  cluster    supplier  \n",
              "177    209              0.68                 2       23        Asus  \n",
              "354    744              0.99                 1       23  Sennheiser  \n",
              "481    607              0.44                 0       44    Fujifilm  \n",
              "312    788              0.81                 4       48     Samsung  \n",
              "75     865              0.03                 0       38    Fujifilm  "
            ]
          },
          "execution_count": 3,
          "metadata": {},
          "output_type": "execute_result"
        }
      ],
      "source": [
        "df.sample(5)"
      ]
    },
    {
      "cell_type": "code",
      "execution_count": 4,
      "metadata": {
        "colab": {
          "base_uri": "https://localhost:8080/"
        },
        "id": "_oxwPXuXOf-x",
        "outputId": "bf7b8258-cbf1-4091-a7cb-5005f4324ee0"
      },
      "outputs": [
        {
          "name": "stdout",
          "output_type": "stream",
          "text": [
            "Data for Cluster 5:\n",
            "     product_id                name    category  quantity    price  sales  \\\n",
            "300         302   MacBook Air M3 v2      Laptop       210  1796.08    830   \n",
            "348         350  MacBook Air M3 v88      Laptop       394  1837.38    927   \n",
            "393         395   Xiaomi 13 Pro v31  Smartphone       388  1905.45    859   \n",
            "456         458       iPhone 15 v88  Smartphone       459  1969.76    949   \n",
            "\n",
            "     popularity_score  category_encoded  cluster supplier  \n",
            "300              0.52                 2        5     Dell  \n",
            "348              0.65                 2        5     Dell  \n",
            "393              0.98                 3        5  OnePlus  \n",
            "456              0.77                 3        5   Xiaomi  \n"
          ]
        }
      ],
      "source": [
        "cluster_number = 5\n",
        "\n",
        "cluster_data = df[df['cluster'] == cluster_number]\n",
        "\n",
        "print(f\"Data for Cluster {cluster_number}:\\n{cluster_data}\")"
      ]
    }
  ],
  "metadata": {
    "colab": {
      "provenance": []
    },
    "kernelspec": {
      "display_name": "env",
      "language": "python",
      "name": "python3"
    },
    "language_info": {
      "codemirror_mode": {
        "name": "ipython",
        "version": 3
      },
      "file_extension": ".py",
      "mimetype": "text/x-python",
      "name": "python",
      "nbconvert_exporter": "python",
      "pygments_lexer": "ipython3",
      "version": "3.12.0"
    }
  },
  "nbformat": 4,
  "nbformat_minor": 0
}
